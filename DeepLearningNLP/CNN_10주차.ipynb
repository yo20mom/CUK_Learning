{
  "nbformat": 4,
  "nbformat_minor": 0,
  "metadata": {
    "colab": {
      "name": "CNN_10주차.ipynb",
      "private_outputs": true,
      "provenance": [],
      "authorship_tag": "ABX9TyP5rKpQFSnWHSZwjVTOi1Oj",
      "include_colab_link": true
    },
    "kernelspec": {
      "name": "python3",
      "display_name": "Python 3"
    },
    "language_info": {
      "name": "python"
    }
  },
  "cells": [
    {
      "cell_type": "markdown",
      "metadata": {
        "id": "view-in-github",
        "colab_type": "text"
      },
      "source": [
        "<a href=\"https://colab.research.google.com/github/yo20mom/CUK_Learning/blob/master/DeepLearningNLP/CNN_10%EC%A3%BC%EC%B0%A8.ipynb\" target=\"_parent\"><img src=\"https://colab.research.google.com/assets/colab-badge.svg\" alt=\"Open In Colab\"/></a>"
      ]
    },
    {
      "cell_type": "code",
      "metadata": {
        "id": "yx5cohD3GxAU"
      },
      "source": [
        "from tensorflow.keras.datasets import imdb\n",
        "import pandas as pd\n",
        "import numpy as np\n",
        "import matplotlib.pyplot as plt\n",
        "from tensorflow.keras.preprocessing.sequence import pad_sequences\n",
        "from tensorflow.keras.layers import Input, Conv1D, Dense, Embedding, MaxPool1D, Flatten\n",
        "from tensorflow.keras.models import Model"
      ],
      "execution_count": null,
      "outputs": []
    },
    {
      "cell_type": "code",
      "metadata": {
        "id": "GH6jdaVJHXCW"
      },
      "source": [
        "(x_train,y_train), (x_test,y_test) = imdb.load_data(num_words = 1000)"
      ],
      "execution_count": null,
      "outputs": []
    },
    {
      "cell_type": "code",
      "metadata": {
        "id": "zFowMJl4HaEq"
      },
      "source": [
        "x_train.shape\n",
        "#0th sentence\n",
        "print(x_train[0])\n",
        "print(len(x_train[0]))\n",
        "\n",
        "#1th sentence\n",
        "print(len(x_train[1]))"
      ],
      "execution_count": null,
      "outputs": []
    },
    {
      "cell_type": "code",
      "metadata": {
        "id": "eauFaU9FHoJS"
      },
      "source": [
        "word_to_index = imdb.get_word_index()\n",
        "word_to_index = {key:(value+3) for key,value in word_to_index.items()}\n",
        "word_to_index[\"<PAD>\"] = 0\n",
        "word_to_index[\"<START>\"] = 1\n",
        "word_to_index[\"<UNK>\"] = 2\n",
        "word_to_index[\"<UNUSED>\"] = 3\n",
        "\n",
        "id_to_word = {value:key for key,value in word_to_index.items()}\n",
        "print(' '.join(id_to_word[id] for id in x_train[0] ))"
      ],
      "execution_count": null,
      "outputs": []
    },
    {
      "cell_type": "code",
      "metadata": {
        "id": "yLnfVX8NHuU6"
      },
      "source": [
        "imdb_index = imdb.get_word_index(path= 'imdb_word_index.json')\n",
        "imdb_index = {k:(v+3) for k,v in imdb_index.items()}\n",
        "imdb_index[\"<pad>\"]= 0\n",
        "imdb_index[\"<start>\"]= 1\n",
        "imdb_index[\"<unk>\"]= 2\n",
        "imdb_index[\"<unused>\"]= 3"
      ],
      "execution_count": null,
      "outputs": []
    },
    {
      "cell_type": "code",
      "metadata": {
        "id": "b7cC1BbCH0w4"
      },
      "source": [
        "imdb_index"
      ],
      "execution_count": null,
      "outputs": []
    },
    {
      "cell_type": "code",
      "metadata": {
        "id": "Y_mhGZCgH46S"
      },
      "source": [
        "imdb_num2vec = {value:key for key,value in imdb_index.items()}"
      ],
      "execution_count": null,
      "outputs": []
    },
    {
      "cell_type": "code",
      "metadata": {
        "id": "IYc3PnbEIBdV"
      },
      "source": [
        "sent = [imdb_num2vec[index] for index in x_train[0]]"
      ],
      "execution_count": null,
      "outputs": []
    },
    {
      "cell_type": "code",
      "metadata": {
        "id": "sS-D9RNJIDo1"
      },
      "source": [
        "\" \".join(sent)"
      ],
      "execution_count": null,
      "outputs": []
    },
    {
      "cell_type": "code",
      "metadata": {
        "id": "-XUyiZ8EIF_o"
      },
      "source": [
        "# pos / neg 개 수 얻기\n",
        "\n",
        "print(pd.Series(y_train).value_counts())\n",
        "print(pd.Series(y_test).value_counts())"
      ],
      "execution_count": null,
      "outputs": []
    },
    {
      "cell_type": "code",
      "metadata": {
        "id": "7c61QaLwIKCP"
      },
      "source": [
        "# 문장 하나당 단어가 얼마나 들어 있는지 확인\n",
        "\n",
        "x_train_lengths = pd.DataFrame(x_train).applymap(len)\n",
        "index, counts = np.unique(x_train_lengths, return_counts=True)"
      ],
      "execution_count": null,
      "outputs": []
    },
    {
      "cell_type": "code",
      "metadata": {
        "id": "6RK8zBNQIPJj"
      },
      "source": [
        "plt.bar(index,counts)\n",
        "print(max(index), min(index))\n",
        "print(max(counts), min(counts))\n",
        "x_train_lengths.describe()"
      ],
      "execution_count": null,
      "outputs": []
    },
    {
      "cell_type": "code",
      "metadata": {
        "id": "aYZAfeVMIUIW"
      },
      "source": [
        "x_test_lengths = pd.DataFrame(x_test).applymap(len)\n",
        "index, counts = np.unique(x_test_lengths, return_counts=True)"
      ],
      "execution_count": null,
      "outputs": []
    },
    {
      "cell_type": "code",
      "metadata": {
        "id": "g16CeTsNIcB5"
      },
      "source": [
        "plt.bar(index,counts)\n",
        "print(max(index), min(index))\n",
        "print(max(counts), min(counts))\n",
        "x_test_lengths.describe()"
      ],
      "execution_count": null,
      "outputs": []
    },
    {
      "cell_type": "code",
      "metadata": {
        "id": "u5-P2erJIdwA"
      },
      "source": [
        "max_len = x_train_lengths.max().values\n",
        "xtrain_padded = pad_sequences(x_train, maxlen= 300, padding= 'post')\n",
        "xtest_padded = pad_sequences(x_test, maxlen= 300, padding= 'post')"
      ],
      "execution_count": null,
      "outputs": []
    },
    {
      "cell_type": "code",
      "metadata": {
        "id": "HpmRi9E5Ijpr"
      },
      "source": [
        "max(np.max(x_train, axis=None))"
      ],
      "execution_count": null,
      "outputs": []
    },
    {
      "cell_type": "code",
      "metadata": {
        "id": "67kZ4vPzInYE"
      },
      "source": [
        "#input\n",
        "\n",
        "input = Input(shape=(300))\n",
        "\n",
        "#embedding layer\n",
        "layer = Embedding(input_dim= 1000, output_dim= 100)(input)\n",
        "\n",
        "#Block 1\n",
        "\n",
        "layer = Conv1D(filters= 64, kernel_size=5, activation= 'relu', kernel_initializer='he_normal')(layer)\n",
        "\n",
        "layer = Conv1D(filters= 64, kernel_size=5, activation= 'relu', kernel_initializer='he_normal')(layer)\n",
        "\n",
        "layer = MaxPool1D()(layer)\n",
        "\n",
        "#Block 2\n",
        "\n",
        "layer = Conv1D(filters= 64, kernel_size=5, activation= 'relu', kernel_initializer='he_normal')(layer)\n",
        "\n",
        "layer = Conv1D(filters= 64, kernel_size=5, activation= 'relu', kernel_initializer='he_normal')(layer)\n",
        "\n",
        "layer = MaxPool1D()(layer)\n",
        "\n",
        "#Block 3\n",
        "\n",
        "layer = Conv1D(filters= 64, kernel_size=5, activation= 'relu', kernel_initializer='he_normal')(layer)\n",
        "\n",
        "layer = Conv1D(filters= 64, kernel_size=5, activation= 'relu', kernel_initializer='he_normal')(layer)\n",
        "\n",
        "layer = MaxPool1D()(layer)\n",
        "\n",
        "layer = Flatten()(layer)\n",
        "layer = Dense(15,activation='tanh',kernel_initializer='he_normal')(layer)\n",
        "layer = Dense(15,activation='tanh',kernel_initializer='he_normal')(layer)\n",
        "layer = Dense(1,activation='sigmoid')(layer)\n",
        "\n",
        "output = layer\n"
      ],
      "execution_count": null,
      "outputs": []
    },
    {
      "cell_type": "code",
      "metadata": {
        "id": "SRjjmJJnI0gs"
      },
      "source": [
        "model = Model(input,output)\n",
        "model.summary()"
      ],
      "execution_count": null,
      "outputs": []
    },
    {
      "cell_type": "code",
      "metadata": {
        "id": "BGKYbWTLI3Iw"
      },
      "source": [
        "model.compile('adam','binary_crossentropy', metrics=['acc'])"
      ],
      "execution_count": null,
      "outputs": []
    },
    {
      "cell_type": "code",
      "metadata": {
        "id": "to9phkQrI6pr"
      },
      "source": [
        "model.fit(xtrain_padded,y_train, epochs=1, validation_data=(xtest_padded,y_test))"
      ],
      "execution_count": null,
      "outputs": []
    },
    {
      "cell_type": "code",
      "metadata": {
        "id": "ONysv9OGI-VP"
      },
      "source": [
        ""
      ],
      "execution_count": null,
      "outputs": []
    }
  ]
}