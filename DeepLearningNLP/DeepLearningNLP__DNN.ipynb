{
  "nbformat": 4,
  "nbformat_minor": 0,
  "metadata": {
    "colab": {
      "name": "DeepLearningNLP__DNN.ipynb",
      "private_outputs": true,
      "provenance": [],
      "authorship_tag": "ABX9TyOfHu2NimRggbSiGPLXyugP",
      "include_colab_link": true
    },
    "kernelspec": {
      "name": "python3",
      "display_name": "Python 3"
    },
    "language_info": {
      "name": "python"
    }
  },
  "cells": [
    {
      "cell_type": "markdown",
      "metadata": {
        "id": "view-in-github",
        "colab_type": "text"
      },
      "source": [
        "<a href=\"https://colab.research.google.com/github/yo20mom/CUK_Learning/blob/master/DeepLearningNLP/DeepLearningNLP__DNN.ipynb\" target=\"_parent\"><img src=\"https://colab.research.google.com/assets/colab-badge.svg\" alt=\"Open In Colab\"/></a>"
      ]
    },
    {
      "cell_type": "code",
      "metadata": {
        "id": "p_JnnV6VtjYw"
      },
      "source": [
        "import numpy as np\n",
        "import pandas as pd\n",
        "import matplotlib.pyplot as plt\n",
        "\n",
        "import tensorflow as tf\n",
        "from tensorflow import keras"
      ],
      "execution_count": null,
      "outputs": []
    },
    {
      "cell_type": "code",
      "metadata": {
        "id": "0rjLeQcoEZUY"
      },
      "source": [
        "# 랜덤값 고정\n",
        "if 'set_seed' in dir(tf.random):\n",
        "    tf.random.set_seed(1)\n",
        "else:\n",
        "    tf.random.set_random_seed(1)\n",
        "\n",
        "# plot에서 한글깨짐 방지\n",
        "plt.rc('font', family='NanumGothicOTF')"
      ],
      "execution_count": null,
      "outputs": []
    },
    {
      "cell_type": "code",
      "metadata": {
        "id": "vzCt2LTwE0Dk"
      },
      "source": [
        "movie_df = pd.DataFrame([\n",
        "     [8759, 487],\n",
        "     [10132, 612],\n",
        "     [12078, 866],\n",
        "     [16430,1030]],\n",
        "    columns=[\"nums_want_to_see\",\"nums_audience\"])\n",
        "movie_df.index = [\"마션\",\"킹스맨\",\"캡틴아메리카\",\"인터스텔라\"]                   "
      ],
      "execution_count": null,
      "outputs": []
    },
    {
      "cell_type": "code",
      "metadata": {
        "id": "u84FBSshGm6q"
      },
      "source": [
        "#  저장된 데이터 확인 \n",
        "movie_df"
      ],
      "execution_count": null,
      "outputs": []
    },
    {
      "cell_type": "code",
      "metadata": {
        "id": "hMgiE1tgGwAD"
      },
      "source": [
        "# 각 영화별 \"보고싶어요\"수와 관객수 확인\n",
        "\n",
        "movie_df.plot()\n",
        "for idx, (name, value) in enumerate(movie_df.iterrows()):\n",
        "    plt.annotate(value[0], (idx,value[0]))\n",
        "    plt.annotate(value[1], (idx,value[1]))"
      ],
      "execution_count": null,
      "outputs": []
    },
    {
      "cell_type": "code",
      "metadata": {
        "id": "p47ULLhmHO8I"
      },
      "source": [
        "# \"보고싶어요\" 수에 따른 실제 관객수 확인 \n",
        "\n",
        "movie_df.plot(x=\"nums_want_to_see\", y=\"nums_audience\")\n",
        "for idx, (name, value) in enumerate(movie_df.iterrows()):\n",
        "    plt.annotate(f\"{name} : {value[1]}\", value)"
      ],
      "execution_count": null,
      "outputs": []
    },
    {
      "cell_type": "markdown",
      "metadata": {
        "id": "gctMTICjKvU9"
      },
      "source": [
        "# 각 레이어의 정의 및 레이어 연결"
      ]
    },
    {
      "cell_type": "code",
      "metadata": {
        "id": "phc6BgIaJXqZ"
      },
      "source": [
        "from tensorflow.keras.layers import Input\n",
        "from tensorflow.keras.layers import Dense"
      ],
      "execution_count": null,
      "outputs": []
    },
    {
      "cell_type": "code",
      "metadata": {
        "id": "JbY4YjyyLOQF"
      },
      "source": [
        "# (1) 입력값의 형태 결정하기\n",
        "inputs = Input(1, name='x')\n",
        "\n",
        "# (2) 출력값의 형태 결정하기\n",
        "dense_layer = Dense(1, name='output')\n",
        "\n",
        "# (3) 레이어 연결하기기\n",
        "output = dense_layer(inputs)"
      ],
      "execution_count": null,
      "outputs": []
    },
    {
      "cell_type": "markdown",
      "metadata": {
        "id": "esg_Otl9L-dz"
      },
      "source": [
        "# 모델 생성하기"
      ]
    },
    {
      "cell_type": "code",
      "metadata": {
        "id": "ROwX0SZ6MBYP"
      },
      "source": [
        "from tensorflow.keras.models import Model"
      ],
      "execution_count": null,
      "outputs": []
    },
    {
      "cell_type": "code",
      "metadata": {
        "id": "3zPAfS8oMNGj"
      },
      "source": [
        "# 모델 인스턴스 생성\n",
        "model = Model(inputs, output, name='model')"
      ],
      "execution_count": null,
      "outputs": []
    },
    {
      "cell_type": "markdown",
      "metadata": {
        "id": "iXOd6rWaNWtu"
      },
      "source": [
        "# 생성된 모델 확인하기"
      ]
    },
    {
      "cell_type": "code",
      "metadata": {
        "id": "1SCq9At3NWXc"
      },
      "source": [
        "model.summary()"
      ],
      "execution_count": null,
      "outputs": []
    },
    {
      "cell_type": "code",
      "metadata": {
        "id": "cxXze4rjMY-B"
      },
      "source": [
        "# w1, w0 가중치 확인\n",
        "dense_layer.get_weights()"
      ],
      "execution_count": null,
      "outputs": []
    },
    {
      "cell_type": "markdown",
      "metadata": {
        "id": "kzR8uxFZPaNY"
      },
      "source": [
        "# 모델에 데이터 입력하여 예측값 구하기"
      ]
    },
    {
      "cell_type": "code",
      "metadata": {
        "id": "a_GvtTtRPUv4"
      },
      "source": [
        "# x에 1의 값을 넣었을 때, y값은? w_1 * 1 + w_0\n",
        "x = np.array([[1.]],np.float32)\n",
        "display(model.predict(x))\n",
        "\n",
        "# x에 2의 값을 넣었을 때, y값은? w_1 * 2 + w_0\n",
        "x = np.array([[2.]],np.float32)\n",
        "display(model.predict(x))"
      ],
      "execution_count": null,
      "outputs": []
    },
    {
      "cell_type": "code",
      "metadata": {
        "id": "_7zkE5JZQR_f"
      },
      "source": [
        "# x에 옥자의 왓차 \"보고싶어요\"수 12008의 값을 넣었을 때, y값(예상 관객수)은? w-1 * 12008 + w_0\n",
        "x = np.array([[12008.]],np.float32)\n",
        "pred = model.predict(x)\n",
        "\n",
        "print(f\"학습되지 않은 모델이 예측한 옥자의 예상 관객수 : {pred}\")"
      ],
      "execution_count": null,
      "outputs": []
    },
    {
      "cell_type": "markdown",
      "metadata": {
        "id": "iWOMGqKOUMja"
      },
      "source": [
        "# 손실함수 설정"
      ]
    },
    {
      "cell_type": "code",
      "metadata": {
        "id": "h2SlzsS8UCyJ"
      },
      "source": [
        "from tensorflow.keras.losses import MeanSquaredError"
      ],
      "execution_count": null,
      "outputs": []
    },
    {
      "cell_type": "code",
      "metadata": {
        "id": "M954_B7WUcPh"
      },
      "source": [
        "# \"실제값과 다른 정도\" 인 \"비용\"의 계산방법으로서 MSE\n",
        "\n",
        "loss = MeanSquaredError()"
      ],
      "execution_count": null,
      "outputs": []
    },
    {
      "cell_type": "markdown",
      "metadata": {
        "id": "fKwi2BKXU19C"
      },
      "source": [
        "# 모델의 최적화 함수"
      ]
    },
    {
      "cell_type": "code",
      "metadata": {
        "id": "kDmZ5j7MUwr4"
      },
      "source": [
        "from tensorflow.keras.optimizers import SGD"
      ],
      "execution_count": null,
      "outputs": []
    },
    {
      "cell_type": "code",
      "metadata": {
        "id": "XPv2qCVnVATd"
      },
      "source": [
        "# \"비용\"을 줄이는 방법으로서 SGD\n",
        "\n",
        "optimizer = SGD(2e-10) #경사하강법"
      ],
      "execution_count": null,
      "outputs": []
    },
    {
      "cell_type": "markdown",
      "metadata": {
        "id": "nvK1zhimVUZn"
      },
      "source": [
        "# 모델 컴파일 하기"
      ]
    },
    {
      "cell_type": "code",
      "metadata": {
        "id": "RSwK9YGtVIDp"
      },
      "source": [
        "model.compile(loss=loss, optimizer=optimizer)"
      ],
      "execution_count": null,
      "outputs": []
    },
    {
      "cell_type": "markdown",
      "metadata": {
        "id": "WAARHEIiVnL4"
      },
      "source": [
        "# 학습 전 모델의 예측과 가중치"
      ]
    },
    {
      "cell_type": "code",
      "metadata": {
        "id": "9soJJplCVmaZ"
      },
      "source": [
        "# 학습이 전혀 되지 않았을 때의 예측 값\n",
        "y_pred = model.predict(movie_df['nums_want_to_see'])\n",
        "movie_df['prediction'] = y_pred\n",
        "movie_df"
      ],
      "execution_count": null,
      "outputs": []
    },
    {
      "cell_type": "code",
      "metadata": {
        "id": "3C9TSIr-WATT"
      },
      "source": [
        "# 학습이 전혀 되지 않았을 때의 weight\n",
        "model.get_weights()"
      ],
      "execution_count": null,
      "outputs": []
    },
    {
      "cell_type": "markdown",
      "metadata": {
        "id": "rZKoUesYWOeh"
      },
      "source": [
        "# 모델 학습"
      ]
    },
    {
      "cell_type": "code",
      "metadata": {
        "id": "dwowCiCkWJeA"
      },
      "source": [
        "#학습\n",
        "history = model.fit(x=movie_df['nums_want_to_see'],\n",
        "                    y=movie_df['nums_audience'],\n",
        "                    epochs=100, verbose=0) #X는 input값을 y는 정답값"
      ],
      "execution_count": null,
      "outputs": []
    },
    {
      "cell_type": "markdown",
      "metadata": {
        "id": "y3sCQz7KXEim"
      },
      "source": [
        "#학습 경과 확인 : 학습에 따른 손실값 감소 확인"
      ]
    },
    {
      "cell_type": "code",
      "metadata": {
        "id": "JCdWPWqXXMCn"
      },
      "source": [
        "import matplotlib.pyplot as plt\n",
        "\n",
        "plt.plot(history.history['loss'])\n",
        "plt.show()# 사람과 인공지능에 대한 오차"
      ],
      "execution_count": null,
      "outputs": []
    },
    {
      "cell_type": "markdown",
      "metadata": {
        "id": "X2vIQOu3XoKc"
      },
      "source": [
        "# 결과 시각화하기"
      ]
    },
    {
      "cell_type": "code",
      "metadata": {
        "id": "wqLyM04AXfzt"
      },
      "source": [
        "pred_inputs = np.arange(7500, 18000)\n",
        "pred_outputs = model.predict(pred_inputs[:,None])\n",
        "\n",
        "movie_df.plot(x='nums_want_to_see',y='nums_audience',kind='scatter', title='Movie')\n",
        "\n",
        "plt.plot(pred_inputs, pred_outputs, 'r--')\n",
        "plt.show()"
      ],
      "execution_count": null,
      "outputs": []
    },
    {
      "cell_type": "code",
      "metadata": {
        "id": "DwxzTnGecAsX"
      },
      "source": [
        "pred_inputs"
      ],
      "execution_count": null,
      "outputs": []
    },
    {
      "cell_type": "code",
      "metadata": {
        "id": "yk0SQRA5cPIZ"
      },
      "source": [
        ""
      ],
      "execution_count": null,
      "outputs": []
    },
    {
      "cell_type": "markdown",
      "metadata": {
        "id": "vibZ1W7TYroQ"
      },
      "source": [
        "# 모델에 데이터 입력하여 예측값 구하기기"
      ]
    },
    {
      "cell_type": "code",
      "metadata": {
        "id": "oV70L0yHYrHT"
      },
      "source": [
        "# x에 옥자의 왓차 \"보고싶어요\"수 12008의 값을 넣었을 때, y값(예상 관객수)은? w_1 * 12008 + w_0\n",
        "x = np.array([[12008.]],np.float32)\n",
        "pred = model.predict(x)\n",
        "\n",
        "print(f\"옥자의 예상관객수는 {pred}\")"
      ],
      "execution_count": null,
      "outputs": []
    },
    {
      "cell_type": "code",
      "metadata": {
        "id": "Jsx-iKA1YUhX"
      },
      "source": [
        ""
      ],
      "execution_count": null,
      "outputs": []
    }
  ]
}