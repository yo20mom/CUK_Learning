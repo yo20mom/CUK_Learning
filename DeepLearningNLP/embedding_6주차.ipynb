{
  "nbformat": 4,
  "nbformat_minor": 0,
  "metadata": {
    "colab": {
      "name": "embedding_6주차.ipynb",
      "private_outputs": true,
      "provenance": [],
      "authorship_tag": "ABX9TyNBHu/c0HBrgXbcsO9RxYnW",
      "include_colab_link": true
    },
    "kernelspec": {
      "name": "python3",
      "display_name": "Python 3"
    },
    "language_info": {
      "name": "python"
    }
  },
  "cells": [
    {
      "cell_type": "markdown",
      "metadata": {
        "id": "view-in-github",
        "colab_type": "text"
      },
      "source": [
        "<a href=\"https://colab.research.google.com/github/yo20mom/CUK_Learning/blob/master/DeepLearningNLP/embedding_6%EC%A3%BC%EC%B0%A8.ipynb\" target=\"_parent\"><img src=\"https://colab.research.google.com/assets/colab-badge.svg\" alt=\"Open In Colab\"/></a>"
      ]
    },
    {
      "cell_type": "code",
      "metadata": {
        "id": "FfEXKD77Cf3U"
      },
      "source": [
        "# keras embedding layers\n",
        "import tensorflow as tf\n",
        "from tensorflow.keras.layers import Embedding, Flatten, Input, Dense\n",
        "from tensorflow.keras.utils import to_categorical\n",
        "from tensorflow.keras.preprocessing.text import one_hot\n",
        "from tensorflow.keras.preprocessing.sequence import pad_sequences\n",
        "from tensorflow.keras.models import Model\n",
        "import numpy as np\n"
      ],
      "execution_count": null,
      "outputs": []
    },
    {
      "cell_type": "code",
      "metadata": {
        "id": "8WpGQFANIsFw"
      },
      "source": [
        "docs = ['안 녕',\n",
        "        '잘했어!',\n",
        "        '잘 자, 오늘 고생했어',\n",
        "        '일 잘하는데?',\n",
        "        '훌륭해!',\n",
        "        '약해',\n",
        "        '노력 좀 해!',\n",
        "        '별로다',\n",
        "        '일을 너무 못 해',\n",
        "        '잘할 수 있었잖아.' ]\n",
        "        \n",
        "     # define class labels\n",
        "labels = np.array([1,1,1,1,1,0,0,0,0,0])   "
      ],
      "execution_count": null,
      "outputs": []
    },
    {
      "cell_type": "code",
      "metadata": {
        "id": "p8X0fizGODrl"
      },
      "source": [
        "#one hot vector\n",
        "encoded_docs = [one_hot(doc, 50) for doc in docs]\n",
        "encoded_docs"
      ],
      "execution_count": null,
      "outputs": []
    },
    {
      "cell_type": "code",
      "metadata": {
        "id": "9HVtdJ6PP159"
      },
      "source": [
        "# \n",
        "padded_docs = pad_sequences(encoded_docs, maxlen=6, padding='post')"
      ],
      "execution_count": null,
      "outputs": []
    },
    {
      "cell_type": "code",
      "metadata": {
        "id": "j5TxMjz2RvFO"
      },
      "source": [
        "padded_docs"
      ],
      "execution_count": null,
      "outputs": []
    },
    {
      "cell_type": "code",
      "metadata": {
        "id": "epowg-_3SIuD"
      },
      "source": [
        "# model\n",
        "import tensorflow.keras.backend as K\n",
        "K.clear_session()\n",
        "inputs = Input(shape=6)\n",
        "layer = Embedding(input_dim=50, output_dim=8)(inputs)\n",
        "layer = Flatten()(layer)\n",
        "layer = Dense(1, activation='sigmoid')(layer)\n",
        "\n",
        "model = Model(inputs, layer)\n",
        "model.predict(padded_docs)"
      ],
      "execution_count": null,
      "outputs": []
    },
    {
      "cell_type": "code",
      "metadata": {
        "id": "ybfT3TpFSifa"
      },
      "source": [
        "model.predict(x=padded_docs)"
      ],
      "execution_count": null,
      "outputs": []
    },
    {
      "cell_type": "code",
      "metadata": {
        "id": "Pyao5rMLrkuS"
      },
      "source": [
        "model.compile('adam', loss='binary_crossentropy', metrics=['acc'])"
      ],
      "execution_count": null,
      "outputs": []
    },
    {
      "cell_type": "code",
      "metadata": {
        "id": "yL5a9lXQr0n4"
      },
      "source": [
        "model.fit(x=padded_docs, y=labels, epochs=20, verbose=1)"
      ],
      "execution_count": null,
      "outputs": []
    },
    {
      "cell_type": "code",
      "metadata": {
        "id": "kFK3tJc8Tgqr"
      },
      "source": [
        "print(model.layers[1].get_weights()[0])"
      ],
      "execution_count": null,
      "outputs": []
    },
    {
      "cell_type": "code",
      "metadata": {
        "id": "K6vnhoE5VjwH"
      },
      "source": [
        "# Embedding layer가 어떻게 작동되는지?"
      ],
      "execution_count": null,
      "outputs": []
    },
    {
      "cell_type": "code",
      "metadata": {
        "id": "PgHssovQWtNU"
      },
      "source": [
        "# set sample weights\n",
        "\n",
        "sample_weights = np.arange(0.1, 1.1, 0.1)\n",
        "sample_weights = np.array([sample_weights]*4).T\n",
        "\n",
        "# put sample_weights to embedding layer\n",
        "model.layers[1].set_weights([sample_weights])\n",
        "model.layers[1].get_weights()   "
      ],
      "execution_count": null,
      "outputs": []
    },
    {
      "cell_type": "code",
      "metadata": {
        "id": "NY1Dmj3VW4XG"
      },
      "source": [
        "sample_input = np.arange(1,10,1)\n",
        "model.predict(sample_input)"
      ],
      "execution_count": null,
      "outputs": []
    },
    {
      "cell_type": "code",
      "metadata": {
        "id": "YB0wtADkX_U6"
      },
      "source": [
        ""
      ],
      "execution_count": null,
      "outputs": []
    }
  ]
}