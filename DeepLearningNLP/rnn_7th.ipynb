{
  "nbformat": 4,
  "nbformat_minor": 0,
  "metadata": {
    "colab": {
      "name": "rnn_7th.ipynb",
      "private_outputs": true,
      "provenance": [],
      "authorship_tag": "ABX9TyOn8IDgC0jIlfhTDPkgQH+4",
      "include_colab_link": true
    },
    "kernelspec": {
      "name": "python3",
      "display_name": "Python 3"
    },
    "language_info": {
      "name": "python"
    }
  },
  "cells": [
    {
      "cell_type": "markdown",
      "metadata": {
        "id": "view-in-github",
        "colab_type": "text"
      },
      "source": [
        "<a href=\"https://colab.research.google.com/github/yo20mom/CUK_Learning/blob/master/DeepLearningNLP/rnn_7th.ipynb\" target=\"_parent\"><img src=\"https://colab.research.google.com/assets/colab-badge.svg\" alt=\"Open In Colab\"/></a>"
      ]
    },
    {
      "cell_type": "code",
      "metadata": {
        "id": "HFA1zChG7NyQ"
      },
      "source": [
        "import numpy as np\n",
        "import tensorflow as tf\n",
        "import keras\n",
        "\n",
        "from tensorflow.keras.layers import SimpleRNN\n",
        "from tensorflow.keras.layers import Input, Dense\n",
        "from tensorflow.keras.models import Model\n",
        "from tensorflow.keras.optimizers import Adam\n",
        "import tensorflow.keras.backend as K"
      ],
      "execution_count": null,
      "outputs": []
    },
    {
      "cell_type": "code",
      "metadata": {
        "id": "N_usU1sH8O-l"
      },
      "source": [
        "char2vec = {'h': np.array([1,0,0,0,0]),\n",
        "            'e': np.array([0,1,0,0,0]),\n",
        "            'l': np.array([0,0,1,0,0]),\n",
        "            'o': np.array([0,0,0,1,0]),\n",
        "            '<EOS>': np.array([0,0,0,0,1])}\n",
        "\n",
        "idx2char = ['h','e','l','o','<EOS>']"
      ],
      "execution_count": null,
      "outputs": []
    },
    {
      "cell_type": "code",
      "metadata": {
        "id": "ZEsb2Bsk9dEz"
      },
      "source": [
        "print(char2vec[\"l\"])"
      ],
      "execution_count": null,
      "outputs": []
    },
    {
      "cell_type": "code",
      "metadata": {
        "id": "4jOdXYzE9sH9"
      },
      "source": [
        "idx2char[2]"
      ],
      "execution_count": null,
      "outputs": []
    },
    {
      "cell_type": "code",
      "metadata": {
        "id": "Zds950kX90zE"
      },
      "source": [
        "from tensorflow.keras.layers import Embedding"
      ],
      "execution_count": null,
      "outputs": []
    },
    {
      "cell_type": "code",
      "metadata": {
        "id": "VMJWasqG-E8B"
      },
      "source": [
        "tf.random.set_seed(1)\n",
        "\n",
        "inputs = Input(shape=())\n",
        "embeded = Embedding(input_dim=5, output_dim=2)(inputs)\n",
        "\n",
        "model = Model(inputs, embeded)"
      ],
      "execution_count": null,
      "outputs": []
    },
    {
      "cell_type": "code",
      "metadata": {
        "id": "gLw0IqAn-VJg"
      },
      "source": [
        "model.summary()"
      ],
      "execution_count": null,
      "outputs": []
    },
    {
      "cell_type": "code",
      "metadata": {
        "id": "S_YsxZBe-wjy"
      },
      "source": [
        "model.layers[1].get_weights()"
      ],
      "execution_count": null,
      "outputs": []
    },
    {
      "cell_type": "code",
      "metadata": {
        "id": "1JyDlCvX_Ad_"
      },
      "source": [
        "model.predict([[1]])"
      ],
      "execution_count": null,
      "outputs": []
    },
    {
      "cell_type": "code",
      "metadata": {
        "id": "U8ZSJZ6X_Ldl"
      },
      "source": [
        "w_xh = np.array([[-2.6, -1.6, -2.1],\n",
        "                 [1.2, 0.4, 0.3],\n",
        "                 [2.1, 1.9, -0.7],\n",
        "                 [-1.4, -1.5, 2.5],\n",
        "                 [-0.9, 0.4, -0.9]])\n",
        "\n",
        "w_hh = np.array([[-0.5, -2.3, 2.9],\n",
        "                 [1.9, 1.5, 1.7],\n",
        "                 [-0.7, -1.2, 1.5]])\n",
        "\n",
        "b_h = np.array([-0.5, -0.4, -1.])\n",
        "\n",
        "w_hy = np.array([[ 0.3, -2.6, 1.2, 2.6, -1.1],\n",
        "                 [-1.1, -2.4, 2.2, 1.6, -2.4],\n",
        "                 [-0.4, -3.1, -3., 3.6, 3.]])\n",
        "\n",
        "b_y = np.array([-1.8, -0.5, 1.3, 0.1, 0.8])\n"
      ],
      "execution_count": null,
      "outputs": []
    },
    {
      "cell_type": "code",
      "metadata": {
        "id": "zZEZrTXy_OmI"
      },
      "source": [
        "def softmax(x):\n",
        "    return np.exp(x) / np.sum(np.exp(x), axis = -1)"
      ],
      "execution_count": null,
      "outputs": []
    },
    {
      "cell_type": "markdown",
      "metadata": {
        "id": "SFtps-aTAgx6"
      },
      "source": [
        "# Time step 1"
      ]
    },
    {
      "cell_type": "code",
      "metadata": {
        "id": "wQv1DFqTAiWn"
      },
      "source": [
        "init_h = np.array([0,0,0])\n",
        "x_0 = char2vec['h']\n",
        "a_1 = np.dot(init_h,w_hh) + np.dot(x_0,w_xh) + b_h\n",
        "h_1 = np.tanh(a_1)\n",
        "y_1 = np.dot(h_1, w_hy) + b_y\n",
        "o_1 = softmax(y_1)\n"
      ],
      "execution_count": null,
      "outputs": []
    },
    {
      "cell_type": "code",
      "metadata": {
        "id": "Ud4pIELmApDk"
      },
      "source": [
        "print(\"1번째 timestep의 hidden: {}\".format(h_1) )\n",
        "print(\"1번째 timestep의 output: {}\".format(y_1) )\n",
        "print(\"1번째 timestep의 result: {}\".format(idx2char[np.argmax(o_1)]))"
      ],
      "execution_count": null,
      "outputs": []
    },
    {
      "cell_type": "markdown",
      "metadata": {
        "id": "O5simqv3A7jy"
      },
      "source": [
        "# time step 2"
      ]
    },
    {
      "cell_type": "code",
      "metadata": {
        "id": "N3V8_jh8A-8G"
      },
      "source": [
        "x_1 = char2vec['e']\n",
        "a_2 = np.dot(h_1,w_hh) + np.dot(x_1,w_xh) + b_h\n",
        "h_2 = np.tanh(a_2)\n",
        "y_2 = np.dot(h_2, w_hy) + b_y\n",
        "o_2 = softmax(y_2)"
      ],
      "execution_count": null,
      "outputs": []
    },
    {
      "cell_type": "code",
      "metadata": {
        "id": "DU5P92j9BDBF"
      },
      "source": [
        "print(\"2번째 timestep의 hidden: {}\".format(h_2) )\n",
        "print(\"2번째 timestep의 output: {}\".format(y_2) )\n",
        "print(\"2번째 timestep의 result: {}\".format(idx2char[np.argmax(o_2)]))"
      ],
      "execution_count": null,
      "outputs": []
    },
    {
      "cell_type": "markdown",
      "metadata": {
        "id": "5qDfY1cJBJfJ"
      },
      "source": [
        "# Tensorflow keras 를 이용한 RNN"
      ]
    },
    {
      "cell_type": "code",
      "metadata": {
        "id": "XKXJRWm-BMtk"
      },
      "source": [
        "from tensorflow.keras.layers import Input, Dense, RNN\n",
        "from tensorflow.keras.layers import SimpleRNNCell"
      ],
      "execution_count": null,
      "outputs": []
    },
    {
      "cell_type": "code",
      "metadata": {
        "id": "wEhaU3p6BNjU"
      },
      "source": [
        "n_inputs = 5\n",
        "n_steps = 5\n",
        "n_neurons = 3\n",
        "n_outputs = n_inputs"
      ],
      "execution_count": null,
      "outputs": []
    },
    {
      "cell_type": "code",
      "metadata": {
        "id": "4P630SOPBPoZ"
      },
      "source": [
        "inputs = Input(shape=(n_steps, n_inputs))\n",
        "hidden = RNN(SimpleRNNCell(n_neurons), return_sequences=True)(inputs)\n",
        "output = Dense(n_outputs, activation= 'softmax')(hidden)\n",
        "\n",
        "\n",
        "model = Model(inputs, output)"
      ],
      "execution_count": null,
      "outputs": []
    },
    {
      "cell_type": "code",
      "metadata": {
        "id": "D9qYAmeHBRu5"
      },
      "source": [
        "model.summary()"
      ],
      "execution_count": null,
      "outputs": []
    },
    {
      "cell_type": "code",
      "metadata": {
        "id": "UkV26nuuB9cP"
      },
      "source": [
        "model.set_weights([w_xh,w_hh,b_h,w_hy,b_y])"
      ],
      "execution_count": null,
      "outputs": []
    },
    {
      "cell_type": "code",
      "metadata": {
        "id": "gBo1vqz2CAqo"
      },
      "source": [
        "input_values = \"hello\"\n",
        "print(\"입력값: \", list(input_values))\n",
        "input_vecs = np.stack([char2vec[char]\n",
        "                      for char in input_values])[np.newaxis]\n",
        "\n",
        "result = model.predict(input_vecs)\n",
        "result_indices = np.argmax(result, axis=-1)[0]\n",
        "print(\"출력값: \", [idx2char[idx] for idx in result_indices])"
      ],
      "execution_count": null,
      "outputs": []
    },
    {
      "cell_type": "markdown",
      "metadata": {
        "id": "CYLamKKpCLCN"
      },
      "source": [
        "#simple RNN 클래스를 활용한 RNN 모델"
      ]
    },
    {
      "cell_type": "code",
      "metadata": {
        "id": "zcpQNNFmCF-6"
      },
      "source": [
        "from tensorflow.keras.layers import SimpleRNN\n",
        "\n",
        "inputs = Input(shape=(n_steps, n_inputs))\n",
        "hidden = SimpleRNN(n_neurons, return_sequences=True)(inputs)\n",
        "output = Dense(n_outputs,activation='softmax')(hidden)"
      ],
      "execution_count": null,
      "outputs": []
    },
    {
      "cell_type": "code",
      "metadata": {
        "id": "1LMJNm__CPid"
      },
      "source": [
        "model = Model(inputs, output)"
      ],
      "execution_count": null,
      "outputs": []
    },
    {
      "cell_type": "code",
      "metadata": {
        "id": "6XF_wZZJCR1L"
      },
      "source": [
        "model.set_weights([w_xh,w_hh,b_h,w_hy,b_y])"
      ],
      "execution_count": null,
      "outputs": []
    },
    {
      "cell_type": "code",
      "metadata": {
        "id": "Sn2Y8PgmCUMx"
      },
      "source": [
        "input_values = \"hello\"\n",
        "print(\"입력값: \", list(input_values))\n",
        "input_vecs = np.stack([char2vec[char]\n",
        "                      for char in input_values])[np.newaxis]\n",
        "\n",
        "result = model.predict(input_vecs)\n",
        "result_indices = np.argmax(result, axis=-1)[0]\n",
        "print(\"출력값: \", [idx2char[idx] for idx in result_indices])"
      ],
      "execution_count": null,
      "outputs": []
    },
    {
      "cell_type": "code",
      "metadata": {
        "id": "edg4JuPlCWn5"
      },
      "source": [
        "%matplotlib inline\n",
        "import numpy as np\n",
        "import tensorflow as tf\n",
        "\n",
        "import matplotlib.pyplot as plt"
      ],
      "execution_count": null,
      "outputs": []
    },
    {
      "cell_type": "code",
      "metadata": {
        "id": "T6m1ATLoCdPu"
      },
      "source": [
        "def generate_timeseries(n_steps=50):\n",
        "    m_x = np.random.uniform(0,10)\n",
        "    xs = np.linspace(0,5, n_steps+1)\n",
        "    ys = np.array([0.5*np.sin(2*np.pi*(x+m_x))+ np.cos(3*np.pi/2*(x+m_x/4)) + np.random.uniform(-0.1,0.1) for x in xs])\n",
        "    return ys[:-1],ys[-1]"
      ],
      "execution_count": null,
      "outputs": []
    },
    {
      "cell_type": "code",
      "metadata": {
        "id": "WJF-bDWaCffm"
      },
      "source": [
        "for _ in range(3):\n",
        "    xs, ys = generate_timeseries(n_steps=40)\n",
        "    timesteps = np.arange(len(xs)+1)\n",
        "    plt.figure(figsize=(10,3))\n",
        "    plt.plot(timesteps[:-1],xs)\n",
        "    plt.scatter(timesteps[-1],ys,c='r')\n",
        "    plt.show"
      ],
      "execution_count": null,
      "outputs": []
    },
    {
      "cell_type": "code",
      "metadata": {
        "id": "7K_32w1DCgHA"
      },
      "source": [
        "K.clear_session()"
      ],
      "execution_count": null,
      "outputs": []
    },
    {
      "cell_type": "code",
      "metadata": {
        "id": "LNuh5Y9tClW7"
      },
      "source": [
        "n_inputs = 1\n",
        "n_steps  = 50\n",
        "n_neurons = 200\n",
        "n_outputs = n_inputs"
      ],
      "execution_count": null,
      "outputs": []
    },
    {
      "cell_type": "code",
      "metadata": {
        "id": "hknMubjSCnO9"
      },
      "source": [
        "inputs = Input(shape=(n_steps, n_inputs))\n",
        "hidden = SimpleRNN(n_neurons,return_state=False)(inputs)\n",
        "output = Dense(1)(hidden)"
      ],
      "execution_count": null,
      "outputs": []
    },
    {
      "cell_type": "code",
      "metadata": {
        "id": "MOtIKcxOCqbw"
      },
      "source": [
        "model = Model(inputs, output)"
      ],
      "execution_count": null,
      "outputs": []
    },
    {
      "cell_type": "code",
      "metadata": {
        "id": "LtvEujIlCsu4"
      },
      "source": [
        "model.summary()"
      ],
      "execution_count": null,
      "outputs": []
    },
    {
      "cell_type": "code",
      "metadata": {
        "id": "wgTX2qThCv7-"
      },
      "source": [
        "model.compile(loss= 'mse', optimizer=Adam(lr=1e-4))"
      ],
      "execution_count": null,
      "outputs": []
    },
    {
      "cell_type": "code",
      "metadata": {
        "id": "HXLldylzC0FC"
      },
      "source": [
        "def timeseries_generator(n_steps = 50, batch_size = 32):\n",
        "    while True:\n",
        "        batch_xs, batch_ys = [], []\n",
        "        for _ in range(batch_size):\n",
        "            x, y = generate_timeseries(n_steps)\n",
        "            batch_xs.append(x[:,np.newaxis])\n",
        "            batch_ys.append(y[np.newaxis])\n",
        "            yield np.stack(batch_xs), np.stack(batch_ys)"
      ],
      "execution_count": null,
      "outputs": []
    },
    {
      "cell_type": "code",
      "metadata": {
        "id": "hGNUAV_mC2KD"
      },
      "source": [
        "train_gen = timeseries_generator(batch_size = 3)\n",
        "batch_x, batch_y = next(train_gen)\n",
        "\n",
        "for xs, y in zip(batch_x, batch_y):\n",
        "    plt.plot(xs)\n",
        "    plt.scatter(len(xs), y, c='r')\n",
        "    plt.show()"
      ],
      "execution_count": null,
      "outputs": []
    },
    {
      "cell_type": "code",
      "metadata": {
        "id": "I8NKPR47C4ig"
      },
      "source": [
        "tarin_gen = timeseries_generator(n_steps, batch_size=16)\n",
        "hist = model.fit_generator(train_gen,steps_per_epoch= 20, epochs = 20 )"
      ],
      "execution_count": null,
      "outputs": []
    },
    {
      "cell_type": "code",
      "metadata": {
        "id": "Y4NauZ4cC8X7"
      },
      "source": [
        "plt.title(\"train loss\")\n",
        "plt.plot(hist.history['loss'])\n",
        "plt.show()"
      ],
      "execution_count": null,
      "outputs": []
    },
    {
      "cell_type": "code",
      "metadata": {
        "id": "QqE5A99gDADZ"
      },
      "source": [
        "## 생성된 RNN\n",
        "for _ in range(3):\n",
        "    xs, y_true = generate_timeseries(n_steps)\n",
        "    timesteps = np.arange(len(xs)+1)\n",
        "\n",
        "    xs = xs[np.newaxis, :, np.newaxis]\n",
        "    y_pred = model.predict(xs).squeeze()\n",
        "\n",
        "    plt.figure(figsize=(10,3))\n",
        "    plt.plot(timesteps[:-1],xs.squeeze())\n",
        "\n",
        "\n",
        "    plt.scatter(timesteps[-1],y_true,c='g', marker = '+')\n",
        "    plt.scatter(timesteps[-1],y_pred,c='r', marker = '*')\n",
        "    plt.show()"
      ],
      "execution_count": null,
      "outputs": []
    },
    {
      "cell_type": "code",
      "metadata": {
        "id": "9k37dNU9DC4j"
      },
      "source": [
        ""
      ],
      "execution_count": null,
      "outputs": []
    }
  ]
}