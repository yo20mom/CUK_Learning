{
  "nbformat": 4,
  "nbformat_minor": 0,
  "metadata": {
    "colab": {
      "name": "딥러닝 자연어 피쳐 엔지니어링_4주차.ipynb",
      "private_outputs": true,
      "provenance": [],
      "authorship_tag": "ABX9TyOwX5ttH+BxlD8B3ZtF1kaZ",
      "include_colab_link": true
    },
    "kernelspec": {
      "name": "python3",
      "display_name": "Python 3"
    },
    "language_info": {
      "name": "python"
    }
  },
  "cells": [
    {
      "cell_type": "markdown",
      "metadata": {
        "id": "view-in-github",
        "colab_type": "text"
      },
      "source": [
        "<a href=\"https://colab.research.google.com/github/yo20mom/DeepLearningNLP/blob/master/%EB%94%A5%EB%9F%AC%EB%8B%9D_%EC%9E%90%EC%97%B0%EC%96%B4_%ED%94%BC%EC%B3%90_%EC%97%94%EC%A7%80%EB%8B%88%EC%96%B4%EB%A7%81_4%EC%A3%BC%EC%B0%A8.ipynb\" target=\"_parent\"><img src=\"https://colab.research.google.com/assets/colab-badge.svg\" alt=\"Open In Colab\"/></a>"
      ]
    },
    {
      "cell_type": "code",
      "metadata": {
        "id": "a2usJU5ppHmV"
      },
      "source": [
        "#몬티홀 문제\n",
        "\n",
        "# 1ㅁ선택     2ㅁ바꾼선택     3ㅁopen\n",
        "#  자동차        염소           염소"
      ],
      "execution_count": null,
      "outputs": []
    },
    {
      "cell_type": "code",
      "metadata": {
        "id": "Kfy5G8OMq2i8"
      },
      "source": [
        "import random\n",
        "\n",
        "door = ['a', 'b', 'c']\n",
        "no_change = 0 #본인의 선택을 바꾸지 않는 경우\n",
        "change = 0  #본인의 선택을 바꾸는 경우mport random\n",
        "\n",
        "trial = 5 \n",
        "#trial = 1000000  #백만번 시도해본다라고 가정"
      ],
      "execution_count": null,
      "outputs": []
    },
    {
      "cell_type": "code",
      "metadata": {
        "id": "aI6P-Z6arMW6"
      },
      "source": [
        "for _ in range(trial): #백만번 동안 몬티홀 문제에 빠져본다.\n",
        "    car = random.randint(0,2) # 해당렌지에 있는 A(0)이상 B(2)이하 있는 렌덤한 정수를 리턴해준다.\n",
        "    player_choice = random.randint(0,2) #플레이어의 선택을 리턴해준다.\n",
        "    #print(\"자동차가 있는 문 : \",door[car])\n",
        "    #print(\"참가자의 선택 : \",door[player_choice])\n",
        "    open_door = []\n",
        "    for i in range(3): #range3인이유는  door = ['a', 'b', 'c'] 이거이기때문\n",
        "        if (i != player_choice) and (i != car): #참가자가 선택한 문이 아니면서 해당문뒤에 자동차가 존재하지 않는다면\n",
        "            open_door.append(door[i]) #open_door에 i번을 첨가한다.\n",
        "    #print(\"진행자가 열 수 있는 문:\",open_door)\n",
        "    com = random.sample(open_door, 1)[0]#2개의 문중 하나를 선택하는 코드\n",
        "    #print(\"진행자가 실제로 연 문 : \",com)\n",
        "    #print(\"========================\")\n",
        "    if player_choice == car: #플레이어가 선택한 문뒤에 자동차 있는경우 \n",
        "        no_change += 1#참가자가 바꾸는것이 유일한 경우\n",
        "\n",
        "    open_door.remove(com)\n",
        "\n",
        "    if not open_door: #바꾸는것이 현명한 경우\n",
        "        change += 1\n",
        "\n",
        "    print(\"선택을 바꾸지 않은 경우 : {}%\".format(no_change/trial))\n",
        "    print(\"선택을 바꾼 경우 : {}%\" .format(change/trial))\n",
        "    "
      ],
      "execution_count": null,
      "outputs": []
    },
    {
      "cell_type": "markdown",
      "metadata": {
        "id": "cvHnr5uKxnbj"
      },
      "source": [
        "# 코사인유사도 기준 "
      ]
    },
    {
      "cell_type": "code",
      "metadata": {
        "id": "xyOksXm-x-Uf"
      },
      "source": [
        "doc_list = ['if you take the blue pill, the story ends',\n",
        "            'if you take the red pill, you stay in Wonderland',\n",
        "            'if you take the red pill, I show you how deep the rabbit hole goes'] #3개의 코사인 유사도 검색색"
      ],
      "execution_count": null,
      "outputs": []
    },
    {
      "cell_type": "code",
      "metadata": {
        "id": "CCU-NyNKyY9Y"
      },
      "source": [
        "import numpy as np\n",
        "from numpy import dot #dot연산 제공\n",
        "from numpy.linalg import norm # L2 norm제공 ,float값 또는 N 차원 배열의 형태로 행렬 또는 벡터의 놈을 반환합니다."
      ],
      "execution_count": null,
      "outputs": []
    },
    {
      "cell_type": "code",
      "metadata": {
        "id": "EEVWaJF8yor0"
      },
      "source": [
        "def cos_similarty(A, B): #A,B가 들어왔을때\n",
        "    return dot(A,B) / (norm(A)*norm(B))   #A,B를 두벡터에 norm끼리 곱한 값을 dot연산으로 나눠라"
      ],
      "execution_count": null,
      "outputs": []
    },
    {
      "cell_type": "code",
      "metadata": {
        "id": "1wIMi5zk0XcB"
      },
      "source": [
        "from sklearn.feature_extraction.text import  TfidfVectorizer"
      ],
      "execution_count": null,
      "outputs": []
    },
    {
      "cell_type": "code",
      "metadata": {
        "id": "9Ull8NE50jT6"
      },
      "source": [
        "tfidf = TfidfVectorizer()\n",
        "doc_tfidf = tfidf.fit_transform(doc_list)\n",
        "\n",
        "print(doc_tfidf.shape)\n",
        "print(type(doc_tfidf))\n"
      ],
      "execution_count": null,
      "outputs": []
    },
    {
      "cell_type": "code",
      "metadata": {
        "id": "q281Qltz1FWK"
      },
      "source": [
        "dense_tfidf = doc_tfidf.todense()"
      ],
      "execution_count": null,
      "outputs": []
    },
    {
      "cell_type": "code",
      "metadata": {
        "id": "V9ygkY-81MAq"
      },
      "source": [
        "vect1 = np.array(dense_tfidf[0]).reshape(-1,)\n",
        "vect2 = np.array(dense_tfidf[1]).reshape(-1,)\n",
        "vect3 = np.array(dense_tfidf[2]).reshape(-1,)"
      ],
      "execution_count": null,
      "outputs": []
    },
    {
      "cell_type": "code",
      "metadata": {
        "id": "tTbuqG9y1rNO"
      },
      "source": [
        "print(\"첫번째 문서와 두번째 문서간의 cos 유사도 : \", cos_similarty(vect1,vect2)) #vect1과 2간의 코사인유사도를 알아낼수 있다.\n",
        "print(\"두번째 문서와 세번째 문서간의 cos 유사도 : \", cos_similarty(vect2,vect3))\n",
        "print(\"세번째 문서와 첫번째 문서간의 cos 유사도 : \", cos_similarty(vect3,vect1)) #문서간의 유사도 확인 가능능"
      ],
      "execution_count": null,
      "outputs": []
    },
    {
      "cell_type": "code",
      "metadata": {
        "id": "YFLDdTMP1j4f"
      },
      "source": [
        "doc_list = ['if you take the blue pill, the story ends',\n",
        "            'if you take the red pill, you stay in Wonderland',\n",
        "            'if you take the red pill, I show you how deep the rabbit hole goes']"
      ],
      "execution_count": null,
      "outputs": []
    }
  ]
}
