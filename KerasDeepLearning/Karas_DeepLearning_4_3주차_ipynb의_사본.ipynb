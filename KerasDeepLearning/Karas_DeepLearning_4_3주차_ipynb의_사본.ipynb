{
  "nbformat": 4,
  "nbformat_minor": 0,
  "metadata": {
    "colab": {
      "name": "Karas_DeepLearning_4.3주차.ipynb의 사본",
      "private_outputs": true,
      "provenance": [],
      "authorship_tag": "ABX9TyM482Ft3NuXMEmf4h+sayhm",
      "include_colab_link": true
    },
    "kernelspec": {
      "name": "python3",
      "display_name": "Python 3"
    },
    "language_info": {
      "name": "python"
    }
  },
  "cells": [
    {
      "cell_type": "markdown",
      "metadata": {
        "id": "view-in-github",
        "colab_type": "text"
      },
      "source": [
        "<a href=\"https://colab.research.google.com/github/yo20mom/CUK_Learning/blob/master/KerasDeepLearning/Karas_DeepLearning_4_3%EC%A3%BC%EC%B0%A8_ipynb%EC%9D%98_%EC%82%AC%EB%B3%B8.ipynb\" target=\"_parent\"><img src=\"https://colab.research.google.com/assets/colab-badge.svg\" alt=\"Open In Colab\"/></a>"
      ]
    },
    {
      "cell_type": "markdown",
      "metadata": {
        "id": "bzQdj6brWMjf"
      },
      "source": [
        "#MNIST 데이터를 로드한다."
      ]
    },
    {
      "cell_type": "code",
      "metadata": {
        "id": "rxPNulenFLE2"
      },
      "source": [
        "from keras.datasets import mnist\n",
        "\n",
        "(x_train, y_train), (x_test, y_test) = mnist.load_data()"
      ],
      "execution_count": null,
      "outputs": []
    },
    {
      "cell_type": "code",
      "metadata": {
        "id": "pmj58IB5WjX6"
      },
      "source": [
        "print(x_train.shape) #샘플수, 가로, 세로rint(x_train.shape) #샘플수, 가로, 세로\n",
        "print(y_train.shape)\n",
        "print(x_test.shape)\n",
        "print(y_test.shape)\n",
        "print(y_train.shape)\n",
        "print(x_test.shape)\n",
        "print(y_test.shape)"
      ],
      "execution_count": null,
      "outputs": []
    },
    {
      "cell_type": "code",
      "metadata": {
        "id": "EXvuqs8UdCmP"
      },
      "source": [
        "import matplotlib.pyplot as plt\n",
        "\n",
        "pixels = x_train[10]\n",
        "label = y_train[10]\n",
        "\n",
        "plt.title('Label is {label}'.format(label=label))\n",
        "plt.imshow(pixels, cmap='gray')\n",
        "plt.show"
      ],
      "execution_count": null,
      "outputs": []
    },
    {
      "cell_type": "code",
      "metadata": {
        "id": "Pd7oTY2bdg_E"
      },
      "source": [
        "print(x_train.shape)\n",
        "x_train = x_train.reshape(60000, 28*28)\n",
        "print(x_train.shape)"
      ],
      "execution_count": null,
      "outputs": []
    },
    {
      "cell_type": "code",
      "metadata": {
        "id": "KZ02qVOqfpk7"
      },
      "source": [
        "print(x_test.shape)\n",
        "x_test = x_test.reshape(10000, 28*28)\n",
        "print(x_test.shape)"
      ],
      "execution_count": null,
      "outputs": []
    },
    {
      "cell_type": "code",
      "metadata": {
        "id": "4zycZ76kf-Lv"
      },
      "source": [
        "# 0~255의 정수\n",
        "# 0을 0.0으로\n",
        "# 255를 1.0으로 실수형태로 바꿈\n",
        "print(x_train.dtype)\n",
        "x_train = x_train.astype('float32') / 255.0\n",
        "print(x_train.dtype)"
      ],
      "execution_count": null,
      "outputs": []
    },
    {
      "cell_type": "code",
      "metadata": {
        "id": "9oIojXRZn1qH"
      },
      "source": [
        "y_train[0]"
      ],
      "execution_count": null,
      "outputs": []
    },
    {
      "cell_type": "code",
      "metadata": {
        "id": "hkBBI3feoXeq"
      },
      "source": [
        "from keras.utils import np_utils\n",
        "\n",
        "print(y_train[0])\n",
        "print(y_train.shape)\n",
        "y_train = np_utils.to_categorical(y_train)\n",
        "print(y_train[0])\n",
        "print(y_train.shape)"
      ],
      "execution_count": null,
      "outputs": []
    },
    {
      "cell_type": "code",
      "metadata": {
        "id": "ADIXAr6Xo3VN"
      },
      "source": [
        "y_train.shape"
      ],
      "execution_count": null,
      "outputs": []
    },
    {
      "cell_type": "code",
      "metadata": {
        "id": "Wgi9-DslpSjU"
      },
      "source": [
        "y_test = np_utils.to_categorical(y_test)"
      ],
      "execution_count": null,
      "outputs": []
    },
    {
      "cell_type": "code",
      "metadata": {
        "id": "j8OgflJgpasH"
      },
      "source": [
        ""
      ],
      "execution_count": null,
      "outputs": []
    }
  ]
}