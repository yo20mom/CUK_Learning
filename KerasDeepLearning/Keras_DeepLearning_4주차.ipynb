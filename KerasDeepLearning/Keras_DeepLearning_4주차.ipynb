{
  "nbformat": 4,
  "nbformat_minor": 0,
  "metadata": {
    "colab": {
      "name": "Keras_DeepLearning_4주차.ipynb",
      "private_outputs": true,
      "provenance": [],
      "mount_file_id": "1fxYsw0T5OrTUxycSV1M-sQO2DxPScGUR",
      "authorship_tag": "ABX9TyMIdgv3YEpv4j5d/AnB2b+K",
      "include_colab_link": true
    },
    "kernelspec": {
      "name": "python3",
      "display_name": "Python 3"
    },
    "language_info": {
      "name": "python"
    }
  },
  "cells": [
    {
      "cell_type": "markdown",
      "metadata": {
        "id": "view-in-github",
        "colab_type": "text"
      },
      "source": [
        "<a href=\"https://colab.research.google.com/github/yo20mom/CUK_Learning/blob/master/KerasDeepLearning/Keras_DeepLearning_4%EC%A3%BC%EC%B0%A8.ipynb\" target=\"_parent\"><img src=\"https://colab.research.google.com/assets/colab-badge.svg\" alt=\"Open In Colab\"/></a>"
      ]
    },
    {
      "cell_type": "code",
      "metadata": {
        "id": "2OIXShuEcKW4"
      },
      "source": [
        "# 0. 사용할 패키지 불러오기\n",
        "import numpy as np\n",
        "from keras.models import Sequential\n",
        "from keras.layers import Dense"
      ],
      "execution_count": null,
      "outputs": []
    },
    {
      "cell_type": "code",
      "metadata": {
        "id": "Ssy89QIwgO0v"
      },
      "source": [
        "# 랜덤시드 고정시키기\n",
        "np.random.seed(5)"
      ],
      "execution_count": null,
      "outputs": []
    },
    {
      "cell_type": "code",
      "metadata": {
        "id": "fO5zEITEgSUJ"
      },
      "source": [
        "# 1. 데이터 준비하기\n",
        "# dataset = np.loadtxt(\"./warehouse/pima-indians-diabetes.data\", delimiter=\",\")"
      ],
      "execution_count": null,
      "outputs": []
    },
    {
      "cell_type": "code",
      "metadata": {
        "id": "9HoDK9RFho7P"
      },
      "source": [
        "from google.colab import drive\n",
        "drive.mount('/content/drive')\n",
        "\n",
        "\n",
        "import pandas as pd\n",
        "df = pd.read_csv(\"/diabetes.csv\", delimiter=\",\")\n",
        "dataset = df.values\n"
      ],
      "execution_count": null,
      "outputs": []
    },
    {
      "cell_type": "code",
      "metadata": {
        "id": "Ea0cvMMPlp8M"
      },
      "source": [
        "df.head()"
      ],
      "execution_count": null,
      "outputs": []
    },
    {
      "cell_type": "code",
      "metadata": {
        "id": "n7PcQWGpgWLZ"
      },
      "source": [
        "# 2. 데이터셋 생성하기\n",
        "x_train = dataset[:700,0:8]\n",
        "y_train = dataset[:700,8]\n",
        "x_test = dataset[700:,0:8]\n",
        "y_test = dataset[700:,8]\n"
      ],
      "execution_count": null,
      "outputs": []
    },
    {
      "cell_type": "code",
      "metadata": {
        "id": "dLie7H9ojnnt"
      },
      "source": [
        "# 3. 모델 구성하기\n",
        "model = Sequential()\n",
        "model.add(Dense(12, input_dim=8, activation='relu'))\n",
        "model.add(Dense(8, activation='relu'))\n",
        "model.add(Dense(1, activation='sigmoid'))"
      ],
      "execution_count": null,
      "outputs": []
    },
    {
      "cell_type": "code",
      "metadata": {
        "id": "hxmGhYvWjvxH"
      },
      "source": [
        "# 4. 모델 학습과정 설정하기\n",
        "model.compile(loss='binary_crossentropy', optimizer='adam', metrics=['accuracy'])"
      ],
      "execution_count": null,
      "outputs": []
    },
    {
      "cell_type": "code",
      "metadata": {
        "id": "wVuWQQuXjzlk"
      },
      "source": [
        "# 5. 모델 학습시키기\n",
        "model.fit(x_train, y_train, epochs=1500, batch_size=64)"
      ],
      "execution_count": null,
      "outputs": []
    },
    {
      "cell_type": "code",
      "metadata": {
        "id": "98oEY4huj6GW"
      },
      "source": [
        "# 6. 모델 평가하기\n",
        "scores = model.evaluate(x_test, y_test)\n",
        "print(\"%s: %.2f%%\" %(model.metrics_names[1], scores[1]*100))"
      ],
      "execution_count": null,
      "outputs": []
    },
    {
      "cell_type": "code",
      "metadata": {
        "id": "6ITfenQTmS5M"
      },
      "source": [
        ""
      ],
      "execution_count": null,
      "outputs": []
    }
  ]
}