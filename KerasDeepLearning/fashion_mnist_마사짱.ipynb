{
  "nbformat": 4,
  "nbformat_minor": 0,
  "metadata": {
    "colab": {
      "name": "fashion_mnist_마사짱.ipynb",
      "provenance": [],
      "collapsed_sections": [],
      "include_colab_link": true
    },
    "kernelspec": {
      "name": "python3",
      "display_name": "Python 3"
    },
    "language_info": {
      "name": "python"
    },
    "accelerator": "GPU"
  },
  "cells": [
    {
      "cell_type": "markdown",
      "metadata": {
        "id": "view-in-github",
        "colab_type": "text"
      },
      "source": [
        "<a href=\"https://colab.research.google.com/github/yo20mom/CUK_Learning/blob/master/KerasDeepLearning/fashion_mnist_%E1%84%86%E1%85%A1%E1%84%89%E1%85%A1%E1%84%8D%E1%85%A1%E1%86%BC.ipynb\" target=\"_parent\"><img src=\"https://colab.research.google.com/assets/colab-badge.svg\" alt=\"Open In Colab\"/></a>"
      ]
    },
    {
      "cell_type": "code",
      "metadata": {
        "id": "1bRErQIN8_Oy"
      },
      "source": [
        "import tensorflow as tf\n",
        "from tensorflow import keras\n",
        "from tensorflow.keras import layers, models, utils, callbacks, datasets, layers, applications, optimizers\n",
        "from tensorflow.keras.preprocessing.image import ImageDataGenerator\n",
        "from tensorflow.keras.datasets import mnist, fashion_mnist\n",
        "from tensorflow.keras.utils import to_categorical\n",
        "from keras.models import Sequential, load_model\n",
        "from keras.layers import Dense, Dropout, Flatten, Conv2D, MaxPool2D, AvgPool2D, BatchNormalization, Activation, MaxPooling2D\n",
        "from keras.optimizers import SGD, Adam\n",
        "from keras import backend as K\n",
        "\n",
        "import matplotlib.pyplot as plt\n",
        "import numpy as np"
      ],
      "execution_count": 1,
      "outputs": []
    },
    {
      "cell_type": "code",
      "metadata": {
        "id": "No4hxMSpBZSe",
        "colab": {
          "base_uri": "https://localhost:8080/"
        },
        "outputId": "9fed70fa-f1a8-4f0e-d847-f04fd482477c"
      },
      "source": [
        "(x_train, y_train), (x_test, y_test) = fashion_mnist.load_data()"
      ],
      "execution_count": 2,
      "outputs": [
        {
          "output_type": "stream",
          "text": [
            "Downloading data from https://storage.googleapis.com/tensorflow/tf-keras-datasets/train-labels-idx1-ubyte.gz\n",
            "32768/29515 [=================================] - 0s 0us/step\n",
            "Downloading data from https://storage.googleapis.com/tensorflow/tf-keras-datasets/train-images-idx3-ubyte.gz\n",
            "26427392/26421880 [==============================] - 0s 0us/step\n",
            "Downloading data from https://storage.googleapis.com/tensorflow/tf-keras-datasets/t10k-labels-idx1-ubyte.gz\n",
            "8192/5148 [===============================================] - 0s 0us/step\n",
            "Downloading data from https://storage.googleapis.com/tensorflow/tf-keras-datasets/t10k-images-idx3-ubyte.gz\n",
            "4423680/4422102 [==============================] - 0s 0us/step\n"
          ],
          "name": "stdout"
        }
      ]
    },
    {
      "cell_type": "markdown",
      "metadata": {
        "id": "wsekGcJQkxro"
      },
      "source": [
        "# 이미지 생성을 위한 generator 추가"
      ]
    },
    {
      "cell_type": "code",
      "metadata": {
        "id": "K-u8ZqGhkKpL"
      },
      "source": [
        "image_generator = ImageDataGenerator(\n",
        "    rotation_range=.13,\n",
        "    zoom_range=0.2,\n",
        "    shear_range=0.6,\n",
        "    # rescale=1. / 255.,\n",
        "    width_shift_range=0.15,\n",
        "    height_shift_range=0.15,\n",
        "    horizontal_flip=True,\n",
        "    vertical_flip=False,\n",
        "   # validation_split=0.2\n",
        "    )"
      ],
      "execution_count": 3,
      "outputs": []
    },
    {
      "cell_type": "code",
      "metadata": {
        "id": "N51Ak72Akdt_"
      },
      "source": [
        "def run_gen(gen, x):\n",
        "  augment_size = len(x)\n",
        "  return gen.flow(x, np.zeros(augment_size), batch_size=augment_size, shuffle=False).next()[0]\n",
        "\n",
        "def extract(x, y, target):\n",
        "  t = np.where(y == target)\n",
        "  x_result = x[t].copy()\n",
        "  y_result = y[t].copy()\n",
        "  print(len(x_result), len(y_result))\n",
        "  return x_result, y_result\n",
        "\n",
        "def augments(gen, np_img, np_answer):\n",
        "  x_top, y_top = extract(np_img, np_answer, 0)\n",
        "  x_shirt, y_shirt = extract(np_img, np_answer, 6)\n",
        "  x_pullover, y_pullover = extract(np_img, np_answer, 2)\n",
        "  x_coat, y_coat = extract(np_img, np_answer, 4)\n",
        "  x_shirt2, y_shirt2 = extract(np_img, np_answer, 6)\n",
        "  \n",
        "  print(\"정상 1\")\n",
        "  tops = run_gen(gen, x_top)\n",
        "  shirts = run_gen(gen, x_shirt)\n",
        "  pullover = run_gen(gen, x_pullover)\n",
        "  coats = run_gen(gen, x_coat)  \n",
        "  shirts2 = run_gen(gen, x_shirt2)\n",
        "\n",
        "  print(\"정상 2\")\n",
        "  np_img = np.concatenate((np_img, tops))\n",
        "  np_img = np.concatenate((np_img, shirts))\n",
        "  np_img = np.concatenate((np_img, pullover))\n",
        "  np_img = np.concatenate((np_img, coats))\n",
        "  np_img = np.concatenate((np_img, shirts2))\n",
        "\n",
        "  print(\"x_train size : \", len(np_img))\n",
        "  print(\"정상 3\")\n",
        "  np_answer = np.concatenate((np_answer, y_top))\n",
        "  np_answer = np.concatenate((np_answer, y_shirt))\n",
        "  np_answer = np.concatenate((np_answer, y_pullover))\n",
        "  np_answer = np.concatenate((np_answer, y_coat))\n",
        "  np_answer = np.concatenate((np_answer, y_shirt2))\n",
        "  \n",
        "  print(\"y_train size : \", len(np_answer))\n",
        "  return np_img.copy(), np_answer.copy()"
      ],
      "execution_count": 4,
      "outputs": []
    },
    {
      "cell_type": "code",
      "metadata": {
        "id": "kX8I4FnNrYFR"
      },
      "source": [
        "x_train = x_train.reshape(x_train.shape[0], 28, 28, 1)\n",
        "x_test = x_test.reshape(x_test.shape[0], 28, 28, 1)"
      ],
      "execution_count": 5,
      "outputs": []
    },
    {
      "cell_type": "code",
      "metadata": {
        "id": "kwqRkbo7BgJ2",
        "colab": {
          "base_uri": "https://localhost:8080/"
        },
        "outputId": "3910f6c9-1f4a-49ed-88e3-d239032bfaf7"
      },
      "source": [
        "x_train, y_train = augments(image_generator, x_train, y_train)\n",
        "print(x_train.shape, y_train.shape)"
      ],
      "execution_count": 6,
      "outputs": [
        {
          "output_type": "stream",
          "text": [
            "6000 6000\n",
            "6000 6000\n",
            "6000 6000\n",
            "6000 6000\n",
            "6000 6000\n",
            "정상 1\n",
            "정상 2\n",
            "x_train size :  90000\n",
            "정상 3\n",
            "y_train size :  90000\n",
            "(90000, 28, 28, 1) (90000,)\n"
          ],
          "name": "stdout"
        }
      ]
    },
    {
      "cell_type": "markdown",
      "metadata": {
        "id": "1oRFFSVpk2KT"
      },
      "source": [
        "# 이미지 generator 실행함수\n",
        "\n",
        "하나의 row마다 augment size만큼 증가 시킨다.\n",
        "\n"
      ]
    },
    {
      "cell_type": "code",
      "metadata": {
        "id": "R9U-Fv0-ULdL"
      },
      "source": [
        "augment_size = len(np.where(y_train == 6)[0])\n",
        "x_augmented = x_train[np.where(y_train == 6)].copy()\n",
        "y_augmented = y_train[np.where(y_train == 6)].copy()\n",
        "\n",
        "x_augmented = image_generator.flow(x_augmented, \n",
        "                                   np.zeros(augment_size), \n",
        "                                   batch_size=augment_size, \n",
        "                                   shuffle=False).next()[0]\n",
        "\n",
        "x_train = np.concatenate((x_train, x_augmented))\n",
        "y_train = np.concatenate((y_train, y_augmented))\n"
      ],
      "execution_count": 7,
      "outputs": []
    },
    {
      "cell_type": "code",
      "metadata": {
        "id": "TIymT8r-6Abe",
        "colab": {
          "base_uri": "https://localhost:8080/"
        },
        "outputId": "07f30d01-57b7-41c5-cb10-d0111b756033"
      },
      "source": [
        "augment_size = len(np.where(y_train == 6)[0])\n",
        "x_augmented = x_train[np.where(y_train == 6)].copy()\n",
        "y_augmented = y_train[np.where(y_train == 6)].copy()\n",
        "\n",
        "x_augmented = image_generator.flow(x_augmented, \n",
        "                                   np.zeros(augment_size), \n",
        "                                   batch_size=augment_size, \n",
        "                                   shuffle=False).next()[0]\n",
        "\n",
        "x_train = np.concatenate((x_train, x_augmented))\n",
        "y_train = np.concatenate((y_train, y_augmented))\n",
        "\n",
        "print(x_train.shape)\n",
        "print(y_train.shape)"
      ],
      "execution_count": 8,
      "outputs": [
        {
          "output_type": "stream",
          "text": [
            "(144000, 28, 28, 1)\n",
            "(144000,)\n"
          ],
          "name": "stdout"
        }
      ]
    },
    {
      "cell_type": "code",
      "metadata": {
        "colab": {
          "base_uri": "https://localhost:8080/"
        },
        "id": "fZA90EYDI9B3",
        "outputId": "c62d7de4-17ef-446e-bcda-c4919fa045e1"
      },
      "source": [
        "augment_size = len(np.where(y_train == 0)[0])\n",
        "x_augmented = x_train[np.where(y_train == 0)].copy()\n",
        "y_augmented = y_train[np.where(y_train == 0)].copy()\n",
        "\n",
        "x_augmented = image_generator.flow(x_augmented, \n",
        "                                   np.zeros(augment_size), \n",
        "                                   batch_size=augment_size, \n",
        "                                   shuffle=False).next()[0]\n",
        "\n",
        "x_train = np.concatenate((x_train, x_augmented))\n",
        "y_train = np.concatenate((y_train, y_augmented))\n",
        "\n",
        "print(x_train.shape)\n",
        "print(y_train.shape)"
      ],
      "execution_count": 9,
      "outputs": [
        {
          "output_type": "stream",
          "text": [
            "(156000, 28, 28, 1)\n",
            "(156000,)\n"
          ],
          "name": "stdout"
        }
      ]
    },
    {
      "cell_type": "code",
      "metadata": {
        "id": "blaFoeu4k9qJ"
      },
      "source": [
        "augment_size = 500000\n",
        "\n",
        "random_mask = np.random.randint(x_train.shape[0], size= augment_size)\n",
        "x_augmented = x_train[random_mask].copy()\n",
        "y_augmented = y_train[random_mask].copy()"
      ],
      "execution_count": 10,
      "outputs": []
    },
    {
      "cell_type": "code",
      "metadata": {
        "id": "F5yA8tFbl9_a",
        "colab": {
          "base_uri": "https://localhost:8080/"
        },
        "outputId": "426b9406-524d-4b95-cde3-265d5ace40b0"
      },
      "source": [
        "x_augmented = image_generator.flow(x_augmented, \n",
        "                                   np.zeros(augment_size), \n",
        "                                   batch_size=augment_size, \n",
        "                                   shuffle=False).next()[0]\n",
        "\n",
        "x_train = np.concatenate((x_train, x_augmented))\n",
        "y_train = np.concatenate((y_train, y_augmented))\n",
        "\n",
        "print(x_train.shape)\n",
        "print(y_train.shape)"
      ],
      "execution_count": 11,
      "outputs": [
        {
          "output_type": "stream",
          "text": [
            "(656000, 28, 28, 1)\n",
            "(656000,)\n"
          ],
          "name": "stdout"
        }
      ]
    },
    {
      "cell_type": "code",
      "metadata": {
        "id": "JqI-fjO6kku-"
      },
      "source": [
        "#x_train, y_train = augments(image_generator, x_train, y_train)"
      ],
      "execution_count": 12,
      "outputs": []
    },
    {
      "cell_type": "code",
      "metadata": {
        "id": "GV8m4BMCkn--",
        "colab": {
          "base_uri": "https://localhost:8080/"
        },
        "outputId": "b583a490-70e4-4ff6-e383-20634211ee36"
      },
      "source": [
        "x_train.shape, y_train.shape"
      ],
      "execution_count": 13,
      "outputs": [
        {
          "output_type": "execute_result",
          "data": {
            "text/plain": [
              "((656000, 28, 28, 1), (656000,))"
            ]
          },
          "metadata": {
            "tags": []
          },
          "execution_count": 13
        }
      ]
    },
    {
      "cell_type": "code",
      "metadata": {
        "id": "KeqvZHJKBtW8"
      },
      "source": [
        "def my_model(filters=[32, 64], kernel_size=(3, 3), pool_size=(2, 2), act='relu'):\n",
        "  width, height, depth, classes = 28, 28, 1, 10\n",
        "  \n",
        "  model = Sequential()\n",
        "  input_shape = (height, width, depth)\n",
        "  chan_dim = -1\n",
        "\n",
        "  for i, x in enumerate(filters):\n",
        "    if i == 0:\n",
        "      model.add(Conv2D(filters=x, \n",
        "                       kernel_size=kernel_size, \n",
        "                       padding='same',\n",
        "                       input_shape=input_shape))\n",
        "    else:\n",
        "      model.add(Conv2D(filters=x, kernel_size=kernel_size, padding='same'))\n",
        "\n",
        "    model.add(BatchNormalization(axis=chan_dim))\n",
        "    model.add(Activation(act))\n",
        "    \n",
        "    model.add(Conv2D(filters=x, kernel_size=kernel_size, padding='same'))\n",
        "    model.add(BatchNormalization(axis=chan_dim))\n",
        "    model.add(Activation(act))\n",
        "    model.add(MaxPooling2D(pool_size=pool_size))\n",
        "    model.add(Dropout(0.3))\n",
        "\n",
        "#   model.add(tf.keras.layers.GlobalMaxPool2D())\n",
        "  model.add(Flatten())\n",
        "  \n",
        "  model.add(Dense(512))\n",
        "  model.add(BatchNormalization())\n",
        "  model.add(Activation(act))\n",
        "  model.add(Dropout(0.4))\n",
        "\n",
        "  model.add(Dense(128))\n",
        "  model.add(BatchNormalization())\n",
        "  model.add(Activation(act))\n",
        "  model.add(Dropout(0.4))\n",
        "\n",
        "  model.add(Dense(classes))\n",
        "  model.add(Activation('softmax'))\n",
        "\n",
        "  return model"
      ],
      "execution_count": 14,
      "outputs": []
    },
    {
      "cell_type": "code",
      "metadata": {
        "id": "X05wNovEJdfQ",
        "colab": {
          "base_uri": "https://localhost:8080/"
        },
        "outputId": "5eba3f17-e573-47e3-d190-5cc30b3eace9"
      },
      "source": [
        "x_train.shape, x_test.shape"
      ],
      "execution_count": 15,
      "outputs": [
        {
          "output_type": "execute_result",
          "data": {
            "text/plain": [
              "((656000, 28, 28, 1), (10000, 28, 28, 1))"
            ]
          },
          "metadata": {
            "tags": []
          },
          "execution_count": 15
        }
      ]
    },
    {
      "cell_type": "markdown",
      "metadata": {
        "id": "kRSZOn1MKjCv"
      },
      "source": [
        "#값 정규화\n",
        "ㅇ이미지 데이터 generator에서 작업하기 때문에 주석처리"
      ]
    },
    {
      "cell_type": "code",
      "metadata": {
        "id": "AT7zx8g_KY6g"
      },
      "source": [
        "x_train = x_train.astype('float32') / 255.\n",
        "x_test = x_test.astype('float32') / 255."
      ],
      "execution_count": 16,
      "outputs": []
    },
    {
      "cell_type": "markdown",
      "metadata": {
        "id": "d73PGbg4T5vu"
      },
      "source": [
        "# 원핫 인코딩으로 변경"
      ]
    },
    {
      "cell_type": "code",
      "metadata": {
        "id": "ieu7so0yUA43"
      },
      "source": [
        "classes = len(np.unique(y_train))\n",
        "y_train = to_categorical(y_train, num_classes=classes)\n",
        "y_test = to_categorical(y_test, num_classes=classes)"
      ],
      "execution_count": 17,
      "outputs": []
    },
    {
      "cell_type": "code",
      "metadata": {
        "id": "AYGf1-aMNR0q"
      },
      "source": [
        "# 모델 저장 기준이 되는 콜백 import\n",
        "from tensorflow.keras.callbacks import ModelCheckpoint, EarlyStopping"
      ],
      "execution_count": 18,
      "outputs": []
    },
    {
      "cell_type": "code",
      "metadata": {
        "id": "xSStpywKOPlT"
      },
      "source": [
        "# 체크할 포인트\n",
        "check_point = ModelCheckpoint('best_model.h5', \n",
        "                              monitor='val_accuracy',\n",
        "                              verbose=1,\n",
        "                              save_best_only=True)\n",
        "\n",
        "# 이른 스탑을 위한 클래스\n",
        "early_stopping = EarlyStopping(monitor='val_accuracy',\n",
        "                               min_delta=0,\n",
        "                               patience=7,\n",
        "                               verbose=1)"
      ],
      "execution_count": 19,
      "outputs": []
    },
    {
      "cell_type": "markdown",
      "metadata": {
        "id": "sIJ0BnbiNzMA"
      },
      "source": [
        "# 모델 컴파일 및 학습\n"
      ]
    },
    {
      "cell_type": "code",
      "metadata": {
        "id": "GiUrlUU5QgZK",
        "colab": {
          "base_uri": "https://localhost:8080/"
        },
        "outputId": "46ea1a9d-ffec-48d4-cdda-8596049d9860"
      },
      "source": [
        "bat_size = 128\n",
        "epochs = 33\n",
        "lr = 0.001\n",
        "bs = 128\n",
        "ep = 50\n",
        "\n",
        "\n",
        "optimizer = Adam(learning_rate=lr, \n",
        "                #decay=lr / ep, \n",
        "                beta_1=0.9,\n",
        "                beta_2=0.999)\n",
        "\n",
        "\n",
        "model = my_model()\n",
        "\n",
        "model.compile(optimizer=optimizer,\n",
        "            loss='categorical_crossentropy',\n",
        "            metrics=['accuracy'])\n",
        "\n",
        "history = model.fit(x_train,\n",
        "                    y_train,\n",
        "                    batch_size=bs,\n",
        "                    validation_split=0.3,\n",
        "                    validation_data=(x_test, y_test),\n",
        "                    epochs=ep,\n",
        "                    verbose=2,\n",
        "                    callbacks=[early_stopping, check_point])"
      ],
      "execution_count": 20,
      "outputs": [
        {
          "output_type": "stream",
          "text": [
            "Epoch 1/50\n",
            "3588/3588 - 90s - loss: 0.5976 - accuracy: 0.7752 - val_loss: 0.4840 - val_accuracy: 0.8090\n",
            "\n",
            "Epoch 00001: val_accuracy improved from -inf to 0.80897, saving model to best_model.h5\n",
            "Epoch 2/50\n",
            "3588/3588 - 43s - loss: 0.4246 - accuracy: 0.8408 - val_loss: 0.3883 - val_accuracy: 0.8508\n",
            "\n",
            "Epoch 00002: val_accuracy improved from 0.80897 to 0.85077, saving model to best_model.h5\n",
            "Epoch 3/50\n",
            "3588/3588 - 47s - loss: 0.3789 - accuracy: 0.8583 - val_loss: 0.3777 - val_accuracy: 0.8613\n",
            "\n",
            "Epoch 00003: val_accuracy improved from 0.85077 to 0.86129, saving model to best_model.h5\n",
            "Epoch 4/50\n",
            "3588/3588 - 44s - loss: 0.3520 - accuracy: 0.8693 - val_loss: 0.3084 - val_accuracy: 0.8819\n",
            "\n",
            "Epoch 00004: val_accuracy improved from 0.86129 to 0.88187, saving model to best_model.h5\n",
            "Epoch 5/50\n",
            "3588/3588 - 44s - loss: 0.3306 - accuracy: 0.8773 - val_loss: 0.3122 - val_accuracy: 0.8800\n",
            "\n",
            "Epoch 00005: val_accuracy did not improve from 0.88187\n",
            "Epoch 6/50\n",
            "3588/3588 - 44s - loss: 0.3150 - accuracy: 0.8826 - val_loss: 0.2917 - val_accuracy: 0.8894\n",
            "\n",
            "Epoch 00006: val_accuracy improved from 0.88187 to 0.88938, saving model to best_model.h5\n",
            "Epoch 7/50\n",
            "3588/3588 - 44s - loss: 0.3042 - accuracy: 0.8873 - val_loss: 0.3098 - val_accuracy: 0.8826\n",
            "\n",
            "Epoch 00007: val_accuracy did not improve from 0.88938\n",
            "Epoch 8/50\n",
            "3588/3588 - 44s - loss: 0.2938 - accuracy: 0.8906 - val_loss: 0.2815 - val_accuracy: 0.8933\n",
            "\n",
            "Epoch 00008: val_accuracy improved from 0.88938 to 0.89331, saving model to best_model.h5\n",
            "Epoch 9/50\n",
            "3588/3588 - 44s - loss: 0.2858 - accuracy: 0.8934 - val_loss: 0.3096 - val_accuracy: 0.8842\n",
            "\n",
            "Epoch 00009: val_accuracy did not improve from 0.89331\n",
            "Epoch 10/50\n",
            "3588/3588 - 48s - loss: 0.2776 - accuracy: 0.8964 - val_loss: 0.2692 - val_accuracy: 0.8979\n",
            "\n",
            "Epoch 00010: val_accuracy improved from 0.89331 to 0.89789, saving model to best_model.h5\n",
            "Epoch 11/50\n",
            "3588/3588 - 44s - loss: 0.2731 - accuracy: 0.8982 - val_loss: 0.2549 - val_accuracy: 0.9046\n",
            "\n",
            "Epoch 00011: val_accuracy improved from 0.89789 to 0.90458, saving model to best_model.h5\n",
            "Epoch 12/50\n",
            "3588/3588 - 44s - loss: 0.2657 - accuracy: 0.9009 - val_loss: 0.2582 - val_accuracy: 0.9036\n",
            "\n",
            "Epoch 00012: val_accuracy did not improve from 0.90458\n",
            "Epoch 13/50\n",
            "3588/3588 - 45s - loss: 0.2596 - accuracy: 0.9035 - val_loss: 0.2695 - val_accuracy: 0.8993\n",
            "\n",
            "Epoch 00013: val_accuracy did not improve from 0.90458\n",
            "Epoch 14/50\n",
            "3588/3588 - 45s - loss: 0.2557 - accuracy: 0.9047 - val_loss: 0.2453 - val_accuracy: 0.9063\n",
            "\n",
            "Epoch 00014: val_accuracy improved from 0.90458 to 0.90632, saving model to best_model.h5\n",
            "Epoch 15/50\n",
            "3588/3588 - 45s - loss: 0.2513 - accuracy: 0.9058 - val_loss: 0.2457 - val_accuracy: 0.9086\n",
            "\n",
            "Epoch 00015: val_accuracy improved from 0.90632 to 0.90858, saving model to best_model.h5\n",
            "Epoch 16/50\n",
            "3588/3588 - 48s - loss: 0.2478 - accuracy: 0.9076 - val_loss: 0.2510 - val_accuracy: 0.9056\n",
            "\n",
            "Epoch 00016: val_accuracy did not improve from 0.90858\n",
            "Epoch 17/50\n",
            "3588/3588 - 45s - loss: 0.2436 - accuracy: 0.9088 - val_loss: 0.2537 - val_accuracy: 0.9066\n",
            "\n",
            "Epoch 00017: val_accuracy did not improve from 0.90858\n",
            "Epoch 18/50\n",
            "3588/3588 - 48s - loss: 0.2390 - accuracy: 0.9107 - val_loss: 0.2587 - val_accuracy: 0.9061\n",
            "\n",
            "Epoch 00018: val_accuracy did not improve from 0.90858\n",
            "Epoch 19/50\n",
            "3588/3588 - 48s - loss: 0.2369 - accuracy: 0.9115 - val_loss: 0.2325 - val_accuracy: 0.9132\n",
            "\n",
            "Epoch 00019: val_accuracy improved from 0.90858 to 0.91320, saving model to best_model.h5\n",
            "Epoch 20/50\n",
            "3588/3588 - 45s - loss: 0.2332 - accuracy: 0.9126 - val_loss: 0.2413 - val_accuracy: 0.9115\n",
            "\n",
            "Epoch 00020: val_accuracy did not improve from 0.91320\n",
            "Epoch 21/50\n",
            "3588/3588 - 45s - loss: 0.2303 - accuracy: 0.9138 - val_loss: 0.2312 - val_accuracy: 0.9142\n",
            "\n",
            "Epoch 00021: val_accuracy improved from 0.91320 to 0.91424, saving model to best_model.h5\n",
            "Epoch 22/50\n",
            "3588/3588 - 45s - loss: 0.2264 - accuracy: 0.9152 - val_loss: 0.2483 - val_accuracy: 0.9091\n",
            "\n",
            "Epoch 00022: val_accuracy did not improve from 0.91424\n",
            "Epoch 23/50\n",
            "3588/3588 - 44s - loss: 0.2247 - accuracy: 0.9157 - val_loss: 0.2310 - val_accuracy: 0.9146\n",
            "\n",
            "Epoch 00023: val_accuracy improved from 0.91424 to 0.91456, saving model to best_model.h5\n",
            "Epoch 24/50\n",
            "3588/3588 - 48s - loss: 0.2231 - accuracy: 0.9171 - val_loss: 0.2165 - val_accuracy: 0.9193\n",
            "\n",
            "Epoch 00024: val_accuracy improved from 0.91456 to 0.91932, saving model to best_model.h5\n",
            "Epoch 25/50\n",
            "3588/3588 - 44s - loss: 0.2198 - accuracy: 0.9178 - val_loss: 0.2368 - val_accuracy: 0.9125\n",
            "\n",
            "Epoch 00025: val_accuracy did not improve from 0.91932\n",
            "Epoch 26/50\n",
            "3588/3588 - 48s - loss: 0.2175 - accuracy: 0.9188 - val_loss: 0.2289 - val_accuracy: 0.9155\n",
            "\n",
            "Epoch 00026: val_accuracy did not improve from 0.91932\n",
            "Epoch 27/50\n",
            "3588/3588 - 44s - loss: 0.2156 - accuracy: 0.9192 - val_loss: 0.2236 - val_accuracy: 0.9188\n",
            "\n",
            "Epoch 00027: val_accuracy did not improve from 0.91932\n",
            "Epoch 28/50\n",
            "3588/3588 - 44s - loss: 0.2127 - accuracy: 0.9203 - val_loss: 0.2193 - val_accuracy: 0.9188\n",
            "\n",
            "Epoch 00028: val_accuracy did not improve from 0.91932\n",
            "Epoch 29/50\n",
            "3588/3588 - 44s - loss: 0.2104 - accuracy: 0.9211 - val_loss: 0.2172 - val_accuracy: 0.9201\n",
            "\n",
            "Epoch 00029: val_accuracy improved from 0.91932 to 0.92007, saving model to best_model.h5\n",
            "Epoch 30/50\n",
            "3588/3588 - 44s - loss: 0.2095 - accuracy: 0.9215 - val_loss: 0.2246 - val_accuracy: 0.9187\n",
            "\n",
            "Epoch 00030: val_accuracy did not improve from 0.92007\n",
            "Epoch 31/50\n",
            "3588/3588 - 44s - loss: 0.2075 - accuracy: 0.9221 - val_loss: 0.2146 - val_accuracy: 0.9212\n",
            "\n",
            "Epoch 00031: val_accuracy improved from 0.92007 to 0.92120, saving model to best_model.h5\n",
            "Epoch 32/50\n",
            "3588/3588 - 48s - loss: 0.2063 - accuracy: 0.9228 - val_loss: 0.2145 - val_accuracy: 0.9220\n",
            "\n",
            "Epoch 00032: val_accuracy improved from 0.92120 to 0.92196, saving model to best_model.h5\n",
            "Epoch 33/50\n",
            "3588/3588 - 44s - loss: 0.2033 - accuracy: 0.9239 - val_loss: 0.2101 - val_accuracy: 0.9242\n",
            "\n",
            "Epoch 00033: val_accuracy improved from 0.92196 to 0.92417, saving model to best_model.h5\n",
            "Epoch 34/50\n",
            "3588/3588 - 44s - loss: 0.2005 - accuracy: 0.9248 - val_loss: 0.2097 - val_accuracy: 0.9243\n",
            "\n",
            "Epoch 00034: val_accuracy improved from 0.92417 to 0.92425, saving model to best_model.h5\n",
            "Epoch 35/50\n",
            "3588/3588 - 44s - loss: 0.1994 - accuracy: 0.9252 - val_loss: 0.2224 - val_accuracy: 0.9187\n",
            "\n",
            "Epoch 00035: val_accuracy did not improve from 0.92425\n",
            "Epoch 36/50\n",
            "3588/3588 - 48s - loss: 0.1987 - accuracy: 0.9257 - val_loss: 0.2495 - val_accuracy: 0.9120\n",
            "\n",
            "Epoch 00036: val_accuracy did not improve from 0.92425\n",
            "Epoch 37/50\n",
            "3588/3588 - 44s - loss: 0.1975 - accuracy: 0.9261 - val_loss: 0.2128 - val_accuracy: 0.9232\n",
            "\n",
            "Epoch 00037: val_accuracy did not improve from 0.92425\n",
            "Epoch 38/50\n",
            "3588/3588 - 48s - loss: 0.1969 - accuracy: 0.9260 - val_loss: 0.2288 - val_accuracy: 0.9179\n",
            "\n",
            "Epoch 00038: val_accuracy did not improve from 0.92425\n",
            "Epoch 39/50\n",
            "3588/3588 - 48s - loss: 0.1937 - accuracy: 0.9275 - val_loss: 0.2169 - val_accuracy: 0.9232\n",
            "\n",
            "Epoch 00039: val_accuracy did not improve from 0.92425\n",
            "Epoch 40/50\n",
            "3588/3588 - 44s - loss: 0.1920 - accuracy: 0.9280 - val_loss: 0.2108 - val_accuracy: 0.9244\n",
            "\n",
            "Epoch 00040: val_accuracy improved from 0.92425 to 0.92440, saving model to best_model.h5\n",
            "Epoch 41/50\n",
            "3588/3588 - 44s - loss: 0.1919 - accuracy: 0.9282 - val_loss: 0.2207 - val_accuracy: 0.9212\n",
            "\n",
            "Epoch 00041: val_accuracy did not improve from 0.92440\n",
            "Epoch 42/50\n",
            "3588/3588 - 44s - loss: 0.1902 - accuracy: 0.9289 - val_loss: 0.2038 - val_accuracy: 0.9264\n",
            "\n",
            "Epoch 00042: val_accuracy improved from 0.92440 to 0.92637, saving model to best_model.h5\n",
            "Epoch 43/50\n",
            "3588/3588 - 44s - loss: 0.1885 - accuracy: 0.9292 - val_loss: 0.2079 - val_accuracy: 0.9251\n",
            "\n",
            "Epoch 00043: val_accuracy did not improve from 0.92637\n",
            "Epoch 44/50\n",
            "3588/3588 - 44s - loss: 0.1877 - accuracy: 0.9294 - val_loss: 0.2103 - val_accuracy: 0.9251\n",
            "\n",
            "Epoch 00044: val_accuracy did not improve from 0.92637\n",
            "Epoch 45/50\n",
            "3588/3588 - 44s - loss: 0.1853 - accuracy: 0.9307 - val_loss: 0.2210 - val_accuracy: 0.9221\n",
            "\n",
            "Epoch 00045: val_accuracy did not improve from 0.92637\n",
            "Epoch 46/50\n",
            "3588/3588 - 44s - loss: 0.1854 - accuracy: 0.9304 - val_loss: 0.2426 - val_accuracy: 0.9141\n",
            "\n",
            "Epoch 00046: val_accuracy did not improve from 0.92637\n",
            "Epoch 47/50\n",
            "3588/3588 - 44s - loss: 0.1838 - accuracy: 0.9311 - val_loss: 0.2132 - val_accuracy: 0.9236\n",
            "\n",
            "Epoch 00047: val_accuracy did not improve from 0.92637\n",
            "Epoch 48/50\n",
            "3588/3588 - 48s - loss: 0.1822 - accuracy: 0.9317 - val_loss: 0.2135 - val_accuracy: 0.9238\n",
            "\n",
            "Epoch 00048: val_accuracy did not improve from 0.92637\n",
            "Epoch 49/50\n",
            "3588/3588 - 48s - loss: 0.1822 - accuracy: 0.9320 - val_loss: 0.2034 - val_accuracy: 0.9272\n",
            "\n",
            "Epoch 00049: val_accuracy improved from 0.92637 to 0.92720, saving model to best_model.h5\n",
            "Epoch 50/50\n",
            "3588/3588 - 44s - loss: 0.1802 - accuracy: 0.9325 - val_loss: 0.2199 - val_accuracy: 0.9239\n",
            "\n",
            "Epoch 00050: val_accuracy did not improve from 0.92720\n"
          ],
          "name": "stdout"
        }
      ]
    },
    {
      "cell_type": "code",
      "metadata": {
        "id": "9FZStfNbjt89",
        "colab": {
          "base_uri": "https://localhost:8080/"
        },
        "outputId": "bebf201f-3081-45d2-a099-20273876f220"
      },
      "source": [
        "loaded_model = load_model('best_model.h5')\n",
        "\n",
        "prob_pred = loaded_model.predict(x_test)\n",
        "pred = loaded_model.evaluate(x_test, y_test)\n",
        "print(pred)\n",
        "\n",
        "prob_label = prob_pred.argmax(axis=-1)\n",
        "\n",
        "np.savetxt('y_pred.csv', prob_label, fmt='%d')"
      ],
      "execution_count": 21,
      "outputs": [
        {
          "output_type": "stream",
          "text": [
            "313/313 [==============================] - 1s 3ms/step - loss: 0.1661 - accuracy: 0.9473\n",
            "[0.16612492501735687, 0.9473000168800354]\n"
          ],
          "name": "stdout"
        }
      ]
    },
    {
      "cell_type": "code",
      "metadata": {
        "id": "bMjBHx0I4Bqs",
        "colab": {
          "base_uri": "https://localhost:8080/"
        },
        "outputId": "e405ea86-e2dd-460c-d08a-2f215c2fa9ff"
      },
      "source": [
        "# show a nicely formatted classification report\n",
        "from sklearn.metrics import classification_report\n",
        "\n",
        "label_names = [\"top\", \"trouser\", \"pullover\", \"dress\", \"coat\", \"sandal\", \"shirt\", \"sneaker\", \"bag\", \"ankle boot\"]\n",
        "\n",
        "print(\"[INFO] evaluating network...\")\n",
        "print(classification_report(y_test.argmax(axis=1), prob_pred.argmax(axis=1), target_names=label_names))"
      ],
      "execution_count": 22,
      "outputs": [
        {
          "output_type": "stream",
          "text": [
            "[INFO] evaluating network...\n",
            "              precision    recall  f1-score   support\n",
            "\n",
            "         top       0.92      0.88      0.90      1000\n",
            "     trouser       1.00      0.99      0.99      1000\n",
            "    pullover       0.95      0.92      0.93      1000\n",
            "       dress       0.94      0.95      0.95      1000\n",
            "        coat       0.91      0.94      0.93      1000\n",
            "      sandal       0.99      0.98      0.99      1000\n",
            "       shirt       0.83      0.86      0.84      1000\n",
            "     sneaker       0.96      0.98      0.97      1000\n",
            "         bag       0.99      1.00      0.99      1000\n",
            "  ankle boot       0.98      0.97      0.97      1000\n",
            "\n",
            "    accuracy                           0.95     10000\n",
            "   macro avg       0.95      0.95      0.95     10000\n",
            "weighted avg       0.95      0.95      0.95     10000\n",
            "\n"
          ],
          "name": "stdout"
        }
      ]
    },
    {
      "cell_type": "code",
      "metadata": {
        "id": "LQn9-LPl8tMz"
      },
      "source": [
        ""
      ],
      "execution_count": 22,
      "outputs": []
    }
  ]
}