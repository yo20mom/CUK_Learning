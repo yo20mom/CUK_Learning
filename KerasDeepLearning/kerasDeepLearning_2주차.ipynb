{
  "nbformat": 4,
  "nbformat_minor": 0,
  "metadata": {
    "colab": {
      "name": "케라스딥러닝_2주차.ipynb",
      "private_outputs": true,
      "provenance": [],
      "authorship_tag": "ABX9TyMS4RNDQKKqr7jDfO0tJ8CO",
      "include_colab_link": true
    },
    "kernelspec": {
      "name": "python3",
      "display_name": "Python 3"
    },
    "language_info": {
      "name": "python"
    }
  },
  "cells": [
    {
      "cell_type": "markdown",
      "metadata": {
        "id": "view-in-github",
        "colab_type": "text"
      },
      "source": [
        "<a href=\"https://colab.research.google.com/github/yo20mom/CUK_Learning/blob/master/KerasDeepLearning/kerasDeepLearning_2%EC%A3%BC%EC%B0%A8.ipynb\" target=\"_parent\"><img src=\"https://colab.research.google.com/assets/colab-badge.svg\" alt=\"Open In Colab\"/></a>"
      ]
    },
    {
      "cell_type": "code",
      "metadata": {
        "id": "bl2Yzps2R3Jv"
      },
      "source": [
        "seconds_in_a_day = 24 * 60 * 60\n",
        "seconds_in_a_day"
      ],
      "execution_count": null,
      "outputs": []
    },
    {
      "cell_type": "code",
      "metadata": {
        "id": "d3qkBRiBSX3F"
      },
      "source": [
        "seconds_in_a_week = 7 * seconds_in_a_day\n",
        "seconds_in_a_week"
      ],
      "execution_count": null,
      "outputs": []
    },
    {
      "cell_type": "markdown",
      "metadata": {
        "id": "kJyYX4RXSym1"
      },
      "source": [
        "# 데이터 과학"
      ]
    },
    {
      "cell_type": "code",
      "metadata": {
        "id": "YymJk79LSmKA"
      },
      "source": [
        "import numpy as np\n",
        "from matplotlib import pyplot as plt\n",
        "\n",
        "ys = 200 + np.random.randn(100)\n",
        "x = [x for x in range(len(ys))]\n",
        "\n",
        "plt.plot(x, ys, '-')\n",
        "plt.fill_between(x, ys, 195, where=(ys > 195), facecolor='g', alpha=0.6)\n",
        "\n",
        "plt.title(\"Sample Visualization\")\n",
        "plt.show()"
      ],
      "execution_count": null,
      "outputs": []
    },
    {
      "cell_type": "code",
      "metadata": {
        "id": "hwTH-syKT1Lh"
      },
      "source": [
        "from keras.utils import np_utils\n",
        "from keras.datasets import mnist\n",
        "from keras.models import Sequential\n",
        "from keras.layers import Dense, Activation\n",
        "import numpy as np"
      ],
      "execution_count": null,
      "outputs": []
    },
    {
      "cell_type": "code",
      "metadata": {
        "id": "OS6iy9M1UtNz"
      },
      "source": [
        "np.random.seed(3)\n",
        "\n",
        "# 1. 데이터셋 준비하기\n",
        "\n",
        "# 훈련셋과 시험셋 로딩\n",
        "(X_train, Y_train), (X_test, Y_test) = mnist.load_data()\n",
        "\n",
        "# 훈련셋과 검증셋 분리\n",
        "X_val = X_train[50000:]\n",
        "Y_val = Y_train[50000:]\n",
        "X_train = X_train[:50000]\n",
        "Y_train = Y_train[:50000]\n",
        "\n",
        "X_train = X_train.reshape(50000, 784).astype('float32') / 255.0\n",
        "X_val = X_val.reshape(10000, 784).astype('float32') / 255.0\n",
        "X_test = X_test.reshape(10000, 784).astype('float32') / 255.0\n",
        "\n",
        "# 훈련셋, 검증셋 고르기\n",
        "train_rand_idxs = np.random.choice(50000, 700)\n",
        "val_rand_idxs = np.random.choice(10000, 300)\n",
        "\n",
        "X_train = X_train[train_rand_idxs]\n",
        "Y_train = Y_train[train_rand_idxs]\n",
        "X_val = X_val[val_rand_idxs]\n",
        "Y_val = Y_val[val_rand_idxs]"
      ],
      "execution_count": null,
      "outputs": []
    },
    {
      "cell_type": "code",
      "metadata": {
        "id": "SQ2P9-rDXbu0"
      },
      "source": [
        "# 라벨링 전환\n",
        "Y_train = np_utils.to_categorical(Y_train)\n",
        "Y_val = np_utils.to_categorical(Y_val)\n",
        "Y_test = np_utils.to_categorical(Y_test)"
      ],
      "execution_count": null,
      "outputs": []
    },
    {
      "cell_type": "code",
      "metadata": {
        "id": "ywubBRdyrvsd"
      },
      "source": [
        "# 2. 모델 구성하기\n",
        "model = Sequential()\n",
        "model.add(Dense(units=2, input_dim = 28*28, activation='relu'))\n",
        "model.add(Dense(units=10, activation='softmax'))"
      ],
      "execution_count": null,
      "outputs": []
    },
    {
      "cell_type": "code",
      "metadata": {
        "id": "HRFOXDonsHMA"
      },
      "source": [
        "# 3. 모델 엮기\n",
        "model.compile(loss = 'categorical_crossentropy', optimizer='sgd', metrics=['accuracy'])"
      ],
      "execution_count": null,
      "outputs": []
    },
    {
      "cell_type": "code",
      "metadata": {
        "id": "L6iVrWHEsg2p"
      },
      "source": [
        "# 4. 모델 학습시키기\n",
        "hist = model.fit(X_train, Y_train, epochs=500, batch_size=10, validation_data= (X_val, Y_val))"
      ],
      "execution_count": null,
      "outputs": []
    },
    {
      "cell_type": "code",
      "metadata": {
        "id": "Jul3Nau3tSZl"
      },
      "source": [
        "# 5.모델 학습 과정 표시하기\n",
        "%matplotlib inline\n",
        "import matplotlib.pyplot as plt\n",
        "\n",
        "fig, loss_ax = plt.subplots()\n",
        "\n",
        "acc_ax = loss_ax.twinx()\n",
        "\n",
        "loss_ax.plot(hist.history['loss'], 'y', label='train loss')\n",
        "loss_ax.plot(hist.history['val_loss'], 'r', label='val loss')\n",
        "\n",
        "acc_ax.plot(hist.history['accuracy'], 'b', label='train acc')\n",
        "acc_ax.plot(hist.history['val_loss'], 'g', label='val acc')\n",
        "\n",
        "loss_ax.set_xlabel('epoch')\n",
        "loss_ax.set_ylabel('loss')\n",
        "acc_ax.set_ylabel('accuray')\n",
        "\n",
        "loss_ax.legend(loc='upper left')\n",
        "acc_ax.legend(loc='lower left')\n",
        "\n",
        "plt.show()"
      ],
      "execution_count": null,
      "outputs": []
    }
  ]
}