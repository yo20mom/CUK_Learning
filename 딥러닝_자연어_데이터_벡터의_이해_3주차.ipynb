{
  "nbformat": 4,
  "nbformat_minor": 0,
  "metadata": {
    "colab": {
      "name": "딥러닝 자연어 데이터 벡터의 이해_3주차.ipynb",
      "provenance": []
    },
    "kernelspec": {
      "name": "python3",
      "display_name": "Python 3"
    }
  },
  "cells": [
    {
      "cell_type": "code",
      "metadata": {
        "colab": {
          "base_uri": "https://localhost:8080/",
          "height": 89
        },
        "id": "BTFUhRuoKikU",
        "outputId": "4fe10492-635a-42b2-c465-447c9a6fd450"
      },
      "source": [
        "text"
      ],
      "execution_count": null,
      "outputs": [
        {
          "output_type": "execute_result",
          "data": {
            "application/vnd.google.colaboratory.intrinsic+json": {
              "type": "string"
            },
            "text/plain": [
              "\"\\nThere is a monkey in the jungle. The monkey is very hungry.\\nThe monkey is looking for food. The monkey found banana on the tree.\\nBanana is monkey's favorite food in the jungle.\\nWith the monkey's ability, the monkey get the banana.\\nThe monkey is very happy with banana\\n\""
            ]
          },
          "metadata": {
            "tags": []
          },
          "execution_count": 52
        }
      ]
    },
    {
      "cell_type": "code",
      "metadata": {
        "id": "ZkXemhC6KhYb"
      },
      "source": [
        "#text 입력\r\n",
        "\r\n",
        "text = \"\"\"\r\n",
        "There is a monkey in the jungle. The monkey is very hungry.\r\n",
        "The monkey is looking for food. The monkey found banana on the tree.\r\n",
        "Banana is monkey's favorite food in the jungle.\r\n",
        "With the monkey's ability, the monkey get the banana.\r\n",
        "The monkey is very happy with banana\r\n",
        "\"\"\""
      ],
      "execution_count": null,
      "outputs": []
    },
    {
      "cell_type": "code",
      "metadata": {
        "colab": {
          "base_uri": "https://localhost:8080/"
        },
        "id": "7VLzgGH7KoS6",
        "outputId": "66cad034-d454-4add-de80-fd461bfdee7a"
      },
      "source": [
        "from nltk.tokenize import sent_tokenize\r\n",
        "import nltk\r\n",
        "\r\n",
        "nltk.download('punkt')"
      ],
      "execution_count": null,
      "outputs": [
        {
          "output_type": "stream",
          "text": [
            "[nltk_data] Downloading package punkt to /root/nltk_data...\n",
            "[nltk_data]   Package punkt is already up-to-date!\n"
          ],
          "name": "stdout"
        },
        {
          "output_type": "execute_result",
          "data": {
            "text/plain": [
              "True"
            ]
          },
          "metadata": {
            "tags": []
          },
          "execution_count": 53
        }
      ]
    },
    {
      "cell_type": "code",
      "metadata": {
        "colab": {
          "base_uri": "https://localhost:8080/"
        },
        "id": "cyK7dAe4KwZD",
        "outputId": "c425d8a2-9da4-4948-f87e-571cb807bc84"
      },
      "source": [
        "\r\n",
        "# 문단 ==> 문장 단위 토큰화\r\n",
        "# 결과값은 리스트로 반환된다.\r\n",
        "\r\n",
        "sent_text = sent_tokenize(text)\r\n",
        "sent_text"
      ],
      "execution_count": null,
      "outputs": [
        {
          "output_type": "execute_result",
          "data": {
            "text/plain": [
              "['\\nThere is a monkey in the jungle.',\n",
              " 'The monkey is very hungry.',\n",
              " 'The monkey is looking for food.',\n",
              " 'The monkey found banana on the tree.',\n",
              " \"Banana is monkey's favorite food in the jungle.\",\n",
              " \"With the monkey's ability, the monkey get the banana.\",\n",
              " 'The monkey is very happy with banana']"
            ]
          },
          "metadata": {
            "tags": []
          },
          "execution_count": 54
        }
      ]
    },
    {
      "cell_type": "markdown",
      "metadata": {
        "id": "en7_m6eGJdr6"
      },
      "source": [
        "# 텍스트 전처리 - 불용어 제거 및 빈도수 측정"
      ]
    },
    {
      "cell_type": "code",
      "metadata": {
        "colab": {
          "base_uri": "https://localhost:8080/"
        },
        "id": "9wWhcSSAIY6j",
        "outputId": "833e6002-beb7-4990-e9b9-84a4bd2d2736"
      },
      "source": [
        "from nltk.tokenize import word_tokenize\r\n",
        "from nltk.corpus import stopwords\r\n",
        "# 불용어 다운 받기\r\n",
        "nltk.download('stopwords')"
      ],
      "execution_count": null,
      "outputs": [
        {
          "output_type": "stream",
          "text": [
            "[nltk_data] Downloading package stopwords to /root/nltk_data...\n",
            "[nltk_data]   Package stopwords is already up-to-date!\n"
          ],
          "name": "stdout"
        },
        {
          "output_type": "execute_result",
          "data": {
            "text/plain": [
              "True"
            ]
          },
          "metadata": {
            "tags": []
          },
          "execution_count": 55
        }
      ]
    },
    {
      "cell_type": "code",
      "metadata": {
        "colab": {
          "base_uri": "https://localhost:8080/"
        },
        "id": "5eBhTB90Ik1D",
        "outputId": "5fdec969-13c5-4b58-ee12-2725c3db1a6e"
      },
      "source": [
        "vocabulary = {}\r\n",
        "sentences = []\r\n",
        "stop_words = stopwords.words('english')\r\n",
        "\r\n",
        "# 문장 ==> 단어로 토큰화\r\n",
        "\r\n",
        "for sent in sent_text:\r\n",
        "    sentence = word_tokenize(sent)\r\n",
        "    print(sentence)\r\n",
        "    result = []\r\n",
        "\r\n",
        "    for word in sentence:\r\n",
        "        word = word.lower()      # sentence의  단어는 모두 소문자로 치환\r\n",
        "        if (word not in stop_words) & (len(word)>2):      # 하나하나의 단어가 불용어가 아니며, 단어 수가 2 이상이면 result 리스트에 단어를 추가한다.\r\n",
        "            result. append(word)\r\n",
        "            if word not in vocabulary:\r\n",
        "                vocabulary[word] = 0        # 기존 vocaluary 딕셔너리에 world가 없으면 0이라는 value 값을 저장 (word가 처음 등장한다면...)\r\n",
        "            vocabulary[word] += 1\r\n",
        "    sentences.append(result)"
      ],
      "execution_count": null,
      "outputs": [
        {
          "output_type": "stream",
          "text": [
            "['There', 'is', 'a', 'monkey', 'in', 'the', 'jungle', '.']\n",
            "['The', 'monkey', 'is', 'very', 'hungry', '.']\n",
            "['The', 'monkey', 'is', 'looking', 'for', 'food', '.']\n",
            "['The', 'monkey', 'found', 'banana', 'on', 'the', 'tree', '.']\n",
            "['Banana', 'is', 'monkey', \"'s\", 'favorite', 'food', 'in', 'the', 'jungle', '.']\n",
            "['With', 'the', 'monkey', \"'s\", 'ability', ',', 'the', 'monkey', 'get', 'the', 'banana', '.']\n",
            "['The', 'monkey', 'is', 'very', 'happy', 'with', 'banana']\n"
          ],
          "name": "stdout"
        }
      ]
    },
    {
      "cell_type": "code",
      "metadata": {
        "colab": {
          "base_uri": "https://localhost:8080/"
        },
        "id": "Y8i8fk_iKgCi",
        "outputId": "152dbf1d-11f4-41b8-b4da-5b25b489854c"
      },
      "source": [
        "sentences      # 불용어가 모두 제거된 단어를 결과값으로 얻음 /"
      ],
      "execution_count": null,
      "outputs": [
        {
          "output_type": "execute_result",
          "data": {
            "text/plain": [
              "[['monkey', 'jungle'],\n",
              " ['monkey', 'hungry'],\n",
              " ['monkey', 'looking', 'food'],\n",
              " ['monkey', 'found', 'banana', 'tree'],\n",
              " ['banana', 'monkey', 'favorite', 'food', 'jungle'],\n",
              " ['monkey', 'ability', 'monkey', 'get', 'banana'],\n",
              " ['monkey', 'happy', 'banana']]"
            ]
          },
          "metadata": {
            "tags": []
          },
          "execution_count": 57
        }
      ]
    },
    {
      "cell_type": "code",
      "metadata": {
        "colab": {
          "base_uri": "https://localhost:8080/"
        },
        "id": "-Ix41m9NOWx7",
        "outputId": "64df93d6-b372-4016-dd96-cb329db40b4e"
      },
      "source": [
        "vocabulary"
      ],
      "execution_count": null,
      "outputs": [
        {
          "output_type": "execute_result",
          "data": {
            "text/plain": [
              "{'ability': 1,\n",
              " 'banana': 4,\n",
              " 'favorite': 1,\n",
              " 'food': 2,\n",
              " 'found': 1,\n",
              " 'get': 1,\n",
              " 'happy': 1,\n",
              " 'hungry': 1,\n",
              " 'jungle': 2,\n",
              " 'looking': 1,\n",
              " 'monkey': 8,\n",
              " 'tree': 1}"
            ]
          },
          "metadata": {
            "tags": []
          },
          "execution_count": 58
        }
      ]
    },
    {
      "cell_type": "code",
      "metadata": {
        "colab": {
          "base_uri": "https://localhost:8080/"
        },
        "id": "9fgEZ-adOaWC",
        "outputId": "3ff3e938-42f8-45b5-8f58-a96bae0c329a"
      },
      "source": [
        "# 빈도를 내림차순으로 정렬\r\n",
        "\r\n",
        "sorted_vocabulary = sorted(vocabluary.items(), key = lambda x:x[1], reverse=True)#sorted는 오름차순임  reverse는 내림차순\r\n",
        "sorted_vocabulary"
      ],
      "execution_count": null,
      "outputs": [
        {
          "output_type": "execute_result",
          "data": {
            "text/plain": [
              "[('monkey', 8),\n",
              " ('banana', 4),\n",
              " ('jungle', 2),\n",
              " ('food', 2),\n",
              " ('hungry', 1),\n",
              " ('looking', 1),\n",
              " ('found', 1),\n",
              " ('tree', 1),\n",
              " ('favorite', 1),\n",
              " ('ability', 1),\n",
              " ('get', 1),\n",
              " ('happy', 1)]"
            ]
          },
          "metadata": {
            "tags": []
          },
          "execution_count": 59
        }
      ]
    },
    {
      "cell_type": "code",
      "metadata": {
        "colab": {
          "base_uri": "https://localhost:8080/"
        },
        "id": "kvLiIt83Oh3D",
        "outputId": "a061652f-607e-4579-ccf1-c5747607908a"
      },
      "source": [
        "integer_embedding = {}\r\n",
        "i = 0\r\n",
        "\r\n",
        "# 2번 이상 등장한 단어에 대해 정수값을 부여함, 즉 정수 인코딩을 수행하는 과정\r\n",
        "for (word, frequency) in sorted_vocabulary:\r\n",
        "\r\n",
        "    if frequency > 1:\r\n",
        "        i = i+1\r\n",
        "        integer_embedding[word] = i\r\n",
        "\r\n",
        "print(integer_embedding)"
      ],
      "execution_count": null,
      "outputs": [
        {
          "output_type": "stream",
          "text": [
            "{'monkey': 1, 'banana': 2, 'jungle': 3, 'food': 4}\n"
          ],
          "name": "stdout"
        }
      ]
    },
    {
      "cell_type": "code",
      "metadata": {
        "colab": {
          "base_uri": "https://localhost:8080/"
        },
        "id": "PMdz6jiLTaCl",
        "outputId": "481c83a8-b4b8-4f7e-e213-ef5b2faf3c41"
      },
      "source": [
        "\r\n",
        "# OOV(out of vacabulary) vacabulary 에 들어있는 않은 단어들도 oov key 값으로 정수 인코딩에 추가\r\n",
        "\r\n",
        "integer_embedding['oov'] = len(integer_embedding)+1\r\n",
        "integer_embedding"
      ],
      "execution_count": null,
      "outputs": [
        {
          "output_type": "execute_result",
          "data": {
            "text/plain": [
              "{'banana': 2, 'food': 4, 'jungle': 3, 'monkey': 1, 'oov': 5}"
            ]
          },
          "metadata": {
            "tags": []
          },
          "execution_count": 99
        }
      ]
    },
    {
      "cell_type": "code",
      "metadata": {
        "colab": {
          "base_uri": "https://localhost:8080/"
        },
        "id": "GUn7zBg6Tejw",
        "outputId": "acb458a7-d0d4-42ab-c8b7-d08ac4cd5561"
      },
      "source": [
        "encoded = []\r\n",
        "\r\n",
        "for s in sentences:\r\n",
        "    temp = []\r\n",
        "    for w in s:\r\n",
        "        try:\r\n",
        "            temp.append(integer_embedding[w])\r\n",
        "        except KeyError:\r\n",
        "            temp.append(integer_embedding['oov'])\r\n",
        "    encoded.append(temp)\r\n",
        "\r\n",
        "print(encoded)"
      ],
      "execution_count": null,
      "outputs": [
        {
          "output_type": "stream",
          "text": [
            "[[1, 3], [1, 5], [1, 5, 4], [1, 5, 2, 5], [2, 1, 5, 4, 3], [1, 5, 1, 5, 2], [1, 5, 2]]\n"
          ],
          "name": "stdout"
        }
      ]
    },
    {
      "cell_type": "markdown",
      "metadata": {
        "id": "9BNqsutiULCv"
      },
      "source": [
        "# count 함수를 사용하여 정수 인코딩 하기"
      ]
    },
    {
      "cell_type": "code",
      "metadata": {
        "id": "fApZPhxaUFcy"
      },
      "source": [
        "import numpy as np\r\n",
        "from collections import Counter\r\n",
        "\r\n",
        "sentences"
      ],
      "execution_count": null,
      "outputs": []
    },
    {
      "cell_type": "code",
      "metadata": {
        "colab": {
          "base_uri": "https://localhost:8080/"
        },
        "id": "kMN6diQNUIAw",
        "outputId": "c87dfaac-c519-4de2-de16-0007e9969a00"
      },
      "source": [
        "words = np.hstack(sentences)   #numpy를 이용해 각각 문장에 들어있는 모든 단어들을 하나의 numpy array로 스텍 작업을 해줌\r\n",
        "words"
      ],
      "execution_count": null,
      "outputs": [
        {
          "output_type": "execute_result",
          "data": {
            "text/plain": [
              "array(['monkey', 'jungle', 'monkey', 'hungry', 'monkey', 'looking',\n",
              "       'food', 'monkey', 'found', 'banana', 'tree', 'banana', 'monkey',\n",
              "       'favorite', 'food', 'jungle', 'monkey', 'ability', 'monkey', 'get',\n",
              "       'banana', 'monkey', 'happy', 'banana'], dtype='<U8')"
            ]
          },
          "metadata": {
            "tags": []
          },
          "execution_count": 101
        }
      ]
    },
    {
      "cell_type": "code",
      "metadata": {
        "colab": {
          "base_uri": "https://localhost:8080/"
        },
        "id": "NZN80QiwUxua",
        "outputId": "49ed997a-0aee-433f-beac-6c3616b59fee"
      },
      "source": [
        "vocabluary = Counter(words)   # Counter 함수만 사용하면 간단히 vocablurary를 만들 수 있다.\r\n",
        "vocabluary"
      ],
      "execution_count": null,
      "outputs": [
        {
          "output_type": "execute_result",
          "data": {
            "text/plain": [
              "Counter({'ability': 1,\n",
              "         'banana': 4,\n",
              "         'favorite': 1,\n",
              "         'food': 2,\n",
              "         'found': 1,\n",
              "         'get': 1,\n",
              "         'happy': 1,\n",
              "         'hungry': 1,\n",
              "         'jungle': 2,\n",
              "         'looking': 1,\n",
              "         'monkey': 8,\n",
              "         'tree': 1})"
            ]
          },
          "metadata": {
            "tags": []
          },
          "execution_count": 102
        }
      ]
    },
    {
      "cell_type": "code",
      "metadata": {
        "colab": {
          "base_uri": "https://localhost:8080/"
        },
        "id": "pB_c70gfVAOO",
        "outputId": "79559296-ab5d-4f91-d84d-dddc00cc46f8"
      },
      "source": [
        "vocab_size = 4\r\n",
        "common_vocablulary = vocabluary.most_common(vocab_size)   #빈도수가 가장 많은 상위 4개의 단어만 저장한다.\r\n",
        "common_vocablulary"
      ],
      "execution_count": null,
      "outputs": [
        {
          "output_type": "execute_result",
          "data": {
            "text/plain": [
              "[('monkey', 8), ('banana', 4), ('jungle', 2), ('food', 2)]"
            ]
          },
          "metadata": {
            "tags": []
          },
          "execution_count": 103
        }
      ]
    },
    {
      "cell_type": "code",
      "metadata": {
        "colab": {
          "base_uri": "https://localhost:8080/"
        },
        "id": "AKsGqWz1VTvW",
        "outputId": "89ab27ba-3d0d-4aa7-89fc-fb5e89d73919"
      },
      "source": [
        "integer_embedding = {}\r\n",
        "i = 0\r\n",
        "\r\n",
        "for (word, frequency) in common_vocablulary:\r\n",
        "    i = i+ 1\r\n",
        "    integer_embedding[word] = i\r\n",
        "\r\n",
        "integer_embedding['oov'] = len(integer_embedding)+1   # oov 추가\r\n",
        "\r\n",
        "print(integer_embedding)"
      ],
      "execution_count": null,
      "outputs": [
        {
          "output_type": "stream",
          "text": [
            "{'monkey': 1, 'banana': 2, 'jungle': 3, 'food': 4, 'oov': 5}\n"
          ],
          "name": "stdout"
        }
      ]
    },
    {
      "cell_type": "markdown",
      "metadata": {
        "id": "_CoOWmYvVly4"
      },
      "source": [
        "# nltk 를 이용한 정수 인코딩"
      ]
    },
    {
      "cell_type": "code",
      "metadata": {
        "id": "MCCbu_JqVaTW"
      },
      "source": [
        "from nltk import FreqDist"
      ],
      "execution_count": null,
      "outputs": []
    },
    {
      "cell_type": "code",
      "metadata": {
        "colab": {
          "base_uri": "https://localhost:8080/"
        },
        "id": "ngKDKXxSVehJ",
        "outputId": "9749a691-3977-4c07-bd0d-36b7c151af47"
      },
      "source": [
        "vocabulary = FreqDist(np.hstack(sentences))\r\n",
        "vocabulary"
      ],
      "execution_count": null,
      "outputs": [
        {
          "output_type": "execute_result",
          "data": {
            "text/plain": [
              "FreqDist({'ability': 1,\n",
              "          'banana': 4,\n",
              "          'favorite': 1,\n",
              "          'food': 2,\n",
              "          'found': 1,\n",
              "          'get': 1,\n",
              "          'happy': 1,\n",
              "          'hungry': 1,\n",
              "          'jungle': 2,\n",
              "          'looking': 1,\n",
              "          'monkey': 8,\n",
              "          'tree': 1})"
            ]
          },
          "metadata": {
            "tags": []
          },
          "execution_count": 70
        }
      ]
    },
    {
      "cell_type": "code",
      "metadata": {
        "colab": {
          "base_uri": "https://localhost:8080/"
        },
        "id": "TY2LMdrzVo0b",
        "outputId": "e23b5542-ec65-449f-ba1a-c383e3032445"
      },
      "source": [
        "vocab_size = 4\r\n",
        "common_vocablulary = vocabulary.most_common(vocab_size)\r\n",
        "common_vocablulary"
      ],
      "execution_count": null,
      "outputs": [
        {
          "output_type": "execute_result",
          "data": {
            "text/plain": [
              "[('monkey', 8), ('banana', 4), ('jungle', 2), ('food', 2)]"
            ]
          },
          "metadata": {
            "tags": []
          },
          "execution_count": 71
        }
      ]
    },
    {
      "cell_type": "code",
      "metadata": {
        "colab": {
          "base_uri": "https://localhost:8080/"
        },
        "id": "_JdEV0V5V3EI",
        "outputId": "415aecbf-f1b6-45cb-8bc5-a11070e9e779"
      },
      "source": [
        "integer_embedding = {word[0] : index +1 for index, word in enumerate(common_vocablulary)}\r\n",
        "integer_embedding"
      ],
      "execution_count": null,
      "outputs": [
        {
          "output_type": "execute_result",
          "data": {
            "text/plain": [
              "{'banana': 2, 'food': 4, 'jungle': 3, 'monkey': 1}"
            ]
          },
          "metadata": {
            "tags": []
          },
          "execution_count": 72
        }
      ]
    },
    {
      "cell_type": "markdown",
      "metadata": {
        "id": "NVA4uZQSV8gr"
      },
      "source": [
        "\r\n",
        "# 텐서플로우 케라스를 이용한 정수 인코딩"
      ]
    },
    {
      "cell_type": "code",
      "metadata": {
        "id": "AWzdNd1vV-Et"
      },
      "source": [
        "from tensorflow.keras.preprocessing.text import Tokenizer   #tensorflow keras 에서 제공하는 Tokenizer 클래스 불러오기"
      ],
      "execution_count": null,
      "outputs": []
    },
    {
      "cell_type": "code",
      "metadata": {
        "colab": {
          "base_uri": "https://localhost:8080/"
        },
        "id": "vRsnl-x6WDC-",
        "outputId": "8ab2f762-7643-46c0-f651-3127d8864d49"
      },
      "source": [
        "tokenizer = Tokenizer()     # tokenizer 클래스의 객체를 생성함\r\n",
        "tokenizer.fit_on_texts(sentences)\r\n",
        "tokenizer"
      ],
      "execution_count": null,
      "outputs": [
        {
          "output_type": "execute_result",
          "data": {
            "text/plain": [
              "<keras_preprocessing.text.Tokenizer at 0x7ff8447d4c50>"
            ]
          },
          "metadata": {
            "tags": []
          },
          "execution_count": 74
        }
      ]
    },
    {
      "cell_type": "code",
      "metadata": {
        "colab": {
          "base_uri": "https://localhost:8080/"
        },
        "id": "f4osxZfMWfnd",
        "outputId": "f7f32236-8ecb-4281-c962-6f7f1dca247b"
      },
      "source": [
        "tokenizer.word_index   # tokenizer 객체의 word_index 값을 확인"
      ],
      "execution_count": null,
      "outputs": [
        {
          "output_type": "execute_result",
          "data": {
            "text/plain": [
              "{'ability': 10,\n",
              " 'banana': 2,\n",
              " 'favorite': 9,\n",
              " 'food': 4,\n",
              " 'found': 7,\n",
              " 'get': 11,\n",
              " 'happy': 12,\n",
              " 'hungry': 5,\n",
              " 'jungle': 3,\n",
              " 'looking': 6,\n",
              " 'monkey': 1,\n",
              " 'tree': 8}"
            ]
          },
          "metadata": {
            "tags": []
          },
          "execution_count": 75
        }
      ]
    },
    {
      "cell_type": "code",
      "metadata": {
        "colab": {
          "base_uri": "https://localhost:8080/"
        },
        "id": "JY9NQQSNWiIz",
        "outputId": "058ccb2e-fb3c-4608-e5b9-90006e780f82"
      },
      "source": [
        "tokenizer.word_counts   # tokenizer 객채의 word_count 값을 확인"
      ],
      "execution_count": null,
      "outputs": [
        {
          "output_type": "execute_result",
          "data": {
            "text/plain": [
              "OrderedDict([('monkey', 8),\n",
              "             ('jungle', 2),\n",
              "             ('hungry', 1),\n",
              "             ('looking', 1),\n",
              "             ('food', 2),\n",
              "             ('found', 1),\n",
              "             ('banana', 4),\n",
              "             ('tree', 1),\n",
              "             ('favorite', 1),\n",
              "             ('ability', 1),\n",
              "             ('get', 1),\n",
              "             ('happy', 1)])"
            ]
          },
          "metadata": {
            "tags": []
          },
          "execution_count": 76
        }
      ]
    },
    {
      "cell_type": "code",
      "metadata": {
        "colab": {
          "base_uri": "https://localhost:8080/"
        },
        "id": "JIjvZdNrWmB7",
        "outputId": "8da2721d-522d-44ec-ce49-1fedf3dde3c2"
      },
      "source": [
        "integer_encoding = tokenizer.texts_to_sequences(sentences)\r\n",
        "integer_encoding"
      ],
      "execution_count": null,
      "outputs": [
        {
          "output_type": "execute_result",
          "data": {
            "text/plain": [
              "[[1, 3],\n",
              " [1, 5],\n",
              " [1, 6, 4],\n",
              " [1, 7, 2, 8],\n",
              " [2, 1, 9, 4, 3],\n",
              " [1, 10, 1, 11, 2],\n",
              " [1, 12, 2]]"
            ]
          },
          "metadata": {
            "tags": []
          },
          "execution_count": 77
        }
      ]
    },
    {
      "cell_type": "code",
      "metadata": {
        "colab": {
          "base_uri": "https://localhost:8080/"
        },
        "id": "DbWZZodxWo7G",
        "outputId": "2ca98e01-0dc0-46d7-bf7b-a37d8a300d9c"
      },
      "source": [
        "sentences"
      ],
      "execution_count": null,
      "outputs": [
        {
          "output_type": "execute_result",
          "data": {
            "text/plain": [
              "[['monkey', 'jungle'],\n",
              " ['monkey', 'hungry'],\n",
              " ['monkey', 'looking', 'food'],\n",
              " ['monkey', 'found', 'banana', 'tree'],\n",
              " ['banana', 'monkey', 'favorite', 'food', 'jungle'],\n",
              " ['monkey', 'ability', 'monkey', 'get', 'banana'],\n",
              " ['monkey', 'happy', 'banana']]"
            ]
          },
          "metadata": {
            "tags": []
          },
          "execution_count": 78
        }
      ]
    },
    {
      "cell_type": "markdown",
      "metadata": {
        "id": "EV6mVzX_Wuod"
      },
      "source": [
        "\r\n",
        "# pedding 작업 하기\r\n",
        "문장들의 길이를 모두 동일하게 맞추어 행력형태의 데이터로 변환하기\r\n",
        "\r\n",
        "# 파이썬을 활용한 pedding 작업"
      ]
    },
    {
      "cell_type": "code",
      "metadata": {
        "colab": {
          "base_uri": "https://localhost:8080/"
        },
        "id": "AtjqsdOZXa2S",
        "outputId": "b0b43576-f4bc-40eb-b038-3e92c17b043a"
      },
      "source": [
        "max_len = max(len(encode) for encode in integer_encoding)   # integer_encoding 안에 가장 길이가 긴 리스트 길이 저장\r\n",
        "max_len"
      ],
      "execution_count": null,
      "outputs": [
        {
          "output_type": "execute_result",
          "data": {
            "text/plain": [
              "5"
            ]
          },
          "metadata": {
            "tags": []
          },
          "execution_count": 79
        }
      ]
    },
    {
      "cell_type": "code",
      "metadata": {
        "colab": {
          "base_uri": "https://localhost:8080/"
        },
        "id": "VgtDUG6rXfnH",
        "outputId": "0fd0e133-3807-4a4e-b68e-197568a3947d"
      },
      "source": [
        "for encode in integer_encoding:    #  max_len 이하의 리스트에 모두 0 값을 덧붙임\r\n",
        "    while len(encode) < max_len:\r\n",
        "        encode.append(0)\r\n",
        "padding = np.array(integer_encoding)\r\n",
        "\r\n",
        "padding"
      ],
      "execution_count": null,
      "outputs": [
        {
          "output_type": "execute_result",
          "data": {
            "text/plain": [
              "array([[ 1,  3,  0,  0,  0],\n",
              "       [ 1,  5,  0,  0,  0],\n",
              "       [ 1,  6,  4,  0,  0],\n",
              "       [ 1,  7,  2,  8,  0],\n",
              "       [ 2,  1,  9,  4,  3],\n",
              "       [ 1, 10,  1, 11,  2],\n",
              "       [ 1, 12,  2,  0,  0]])"
            ]
          },
          "metadata": {
            "tags": []
          },
          "execution_count": 80
        }
      ]
    },
    {
      "cell_type": "markdown",
      "metadata": {
        "id": "FO_mdrZKXigo"
      },
      "source": [
        "# Tensorflow의 keras를 활용한 pedding"
      ]
    },
    {
      "cell_type": "code",
      "metadata": {
        "colab": {
          "base_uri": "https://localhost:8080/"
        },
        "id": "0V4uYAVNXhED",
        "outputId": "3352abc5-8217-48be-b1bd-edd73709ec7b"
      },
      "source": [
        "from tensorflow.keras.preprocessing.sequence import pad_sequences\r\n",
        "padding = pad_sequences(integer_encoding)   # 텐서플로우의 pad_sequence 함수를 활용한 padding\r\n",
        "padding"
      ],
      "execution_count": null,
      "outputs": [
        {
          "output_type": "execute_result",
          "data": {
            "text/plain": [
              "array([[ 1,  3,  0,  0,  0],\n",
              "       [ 1,  5,  0,  0,  0],\n",
              "       [ 1,  6,  4,  0,  0],\n",
              "       [ 1,  7,  2,  8,  0],\n",
              "       [ 2,  1,  9,  4,  3],\n",
              "       [ 1, 10,  1, 11,  2],\n",
              "       [ 1, 12,  2,  0,  0]], dtype=int32)"
            ]
          },
          "metadata": {
            "tags": []
          },
          "execution_count": 81
        }
      ]
    },
    {
      "cell_type": "code",
      "metadata": {
        "colab": {
          "base_uri": "https://localhost:8080/"
        },
        "id": "1KrTemh8Xqwb",
        "outputId": "d16ac8e5-a101-47a7-b131-3b1c4b14d5c2"
      },
      "source": [
        "padding = pad_sequences(integer_encoding, padding = 'post', maxlen=7, value = -1)    # '뒤에 padding 붙이기' , maxlen  옵션주기, padding 숫자를 -1로 주기\r\n",
        "padding"
      ],
      "execution_count": null,
      "outputs": [
        {
          "output_type": "execute_result",
          "data": {
            "text/plain": [
              "array([[ 1,  3,  0,  0,  0, -1, -1],\n",
              "       [ 1,  5,  0,  0,  0, -1, -1],\n",
              "       [ 1,  6,  4,  0,  0, -1, -1],\n",
              "       [ 1,  7,  2,  8,  0, -1, -1],\n",
              "       [ 2,  1,  9,  4,  3, -1, -1],\n",
              "       [ 1, 10,  1, 11,  2, -1, -1],\n",
              "       [ 1, 12,  2,  0,  0, -1, -1]], dtype=int32)"
            ]
          },
          "metadata": {
            "tags": []
          },
          "execution_count": 82
        }
      ]
    },
    {
      "cell_type": "markdown",
      "metadata": {
        "id": "ASWL2YmAXu2f"
      },
      "source": [
        "# TF-IDF"
      ]
    },
    {
      "cell_type": "code",
      "metadata": {
        "id": "HiPdUIVrXy1o"
      },
      "source": [
        "documents = [\"배가 너무 너무 아프다\",       # 1번 문서\r\n",
        "             \"배가 너무 고프다\",           # 2번 문서\r\n",
        "             \"저기 저기 배가 지나간다\",    # 3번 문서\r\n",
        "             \"비가 와서 다리가 아프다\"]    # 4번 문서"
      ],
      "execution_count": null,
      "outputs": []
    },
    {
      "cell_type": "code",
      "metadata": {
        "colab": {
          "base_uri": "https://localhost:8080/"
        },
        "id": "fS45HTi6YWPC",
        "outputId": "c109cb83-a3c8-435d-eac3-e56b17b8c9da"
      },
      "source": [
        "vocabulary = list(set(w for doc in documents for w in doc.split()))    # 단어들을 중복없이 리스트로 나열ocabulary = list(set(w for doc in documents for w in doc.split()))    # 단어들을 중복없이 리스트로 나열\r\n",
        "vocabulary\r\n",
        "vocabulary"
      ],
      "execution_count": null,
      "outputs": [
        {
          "output_type": "execute_result",
          "data": {
            "text/plain": [
              "['비가', '와서', '지나간다', '아프다', '다리가', '너무', '저기', '배가', '고프다']"
            ]
          },
          "metadata": {
            "tags": []
          },
          "execution_count": 84
        }
      ]
    },
    {
      "cell_type": "markdown",
      "metadata": {
        "id": "4Nowir0cYdsH"
      },
      "source": [
        "TF,idf,td * idf 함수 정의"
      ]
    },
    {
      "cell_type": "code",
      "metadata": {
        "id": "Y2MxZbb3YcLC"
      },
      "source": [
        "import math\r\n",
        "\r\n",
        "num_documents = len(documents)\r\n",
        "\r\n",
        "\r\n",
        "def tf(t,d):\r\n",
        "    return d.count(t)\r\n",
        "\r\n",
        "def idf(t):\r\n",
        "    df = 0\r\n",
        "    for doc in documents:\r\n",
        "        df += t in doc\r\n",
        "    return math.log(num_documents/(df+1))\r\n",
        "\r\n",
        "def tfidf(t,d):\r\n",
        "    return tf(t,d) * idf(t)"
      ],
      "execution_count": null,
      "outputs": []
    },
    {
      "cell_type": "markdown",
      "metadata": {
        "id": "cTtfgVfZZF1l"
      },
      "source": [
        "tf 구하기"
      ]
    },
    {
      "cell_type": "code",
      "metadata": {
        "colab": {
          "base_uri": "https://localhost:8080/",
          "height": 173
        },
        "id": "W6pZbVbmZIXf",
        "outputId": "01a91e9a-023d-43d1-b55e-5dc3fe9cfdbc"
      },
      "source": [
        "import pandas as pd\r\n",
        "\r\n",
        "result = []\r\n",
        "for i in range(num_documents):\r\n",
        "    result.append([])\r\n",
        "    d = documents[i]\r\n",
        "    for j in range(len(vocabulary)):\r\n",
        "        t = vocabulary[j]\r\n",
        "        result[-1].append(tf(t,d))\r\n",
        "\r\n",
        "term_frequency = pd.DataFrame(result, columns = vocabulary)\r\n",
        "term_frequency"
      ],
      "execution_count": null,
      "outputs": [
        {
          "output_type": "execute_result",
          "data": {
            "text/html": [
              "<div>\n",
              "<style scoped>\n",
              "    .dataframe tbody tr th:only-of-type {\n",
              "        vertical-align: middle;\n",
              "    }\n",
              "\n",
              "    .dataframe tbody tr th {\n",
              "        vertical-align: top;\n",
              "    }\n",
              "\n",
              "    .dataframe thead th {\n",
              "        text-align: right;\n",
              "    }\n",
              "</style>\n",
              "<table border=\"1\" class=\"dataframe\">\n",
              "  <thead>\n",
              "    <tr style=\"text-align: right;\">\n",
              "      <th></th>\n",
              "      <th>비가</th>\n",
              "      <th>와서</th>\n",
              "      <th>지나간다</th>\n",
              "      <th>아프다</th>\n",
              "      <th>다리가</th>\n",
              "      <th>너무</th>\n",
              "      <th>저기</th>\n",
              "      <th>배가</th>\n",
              "      <th>고프다</th>\n",
              "    </tr>\n",
              "  </thead>\n",
              "  <tbody>\n",
              "    <tr>\n",
              "      <th>0</th>\n",
              "      <td>0</td>\n",
              "      <td>0</td>\n",
              "      <td>0</td>\n",
              "      <td>1</td>\n",
              "      <td>0</td>\n",
              "      <td>2</td>\n",
              "      <td>0</td>\n",
              "      <td>1</td>\n",
              "      <td>0</td>\n",
              "    </tr>\n",
              "    <tr>\n",
              "      <th>1</th>\n",
              "      <td>0</td>\n",
              "      <td>0</td>\n",
              "      <td>0</td>\n",
              "      <td>0</td>\n",
              "      <td>0</td>\n",
              "      <td>1</td>\n",
              "      <td>0</td>\n",
              "      <td>1</td>\n",
              "      <td>1</td>\n",
              "    </tr>\n",
              "    <tr>\n",
              "      <th>2</th>\n",
              "      <td>0</td>\n",
              "      <td>0</td>\n",
              "      <td>1</td>\n",
              "      <td>0</td>\n",
              "      <td>0</td>\n",
              "      <td>0</td>\n",
              "      <td>2</td>\n",
              "      <td>1</td>\n",
              "      <td>0</td>\n",
              "    </tr>\n",
              "    <tr>\n",
              "      <th>3</th>\n",
              "      <td>1</td>\n",
              "      <td>1</td>\n",
              "      <td>0</td>\n",
              "      <td>1</td>\n",
              "      <td>1</td>\n",
              "      <td>0</td>\n",
              "      <td>0</td>\n",
              "      <td>0</td>\n",
              "      <td>0</td>\n",
              "    </tr>\n",
              "  </tbody>\n",
              "</table>\n",
              "</div>"
            ],
            "text/plain": [
              "   비가  와서  지나간다  아프다  다리가  너무  저기  배가  고프다\n",
              "0   0   0     0    1    0   2   0   1    0\n",
              "1   0   0     0    0    0   1   0   1    1\n",
              "2   0   0     1    0    0   0   2   1    0\n",
              "3   1   1     0    1    1   0   0   0    0"
            ]
          },
          "metadata": {
            "tags": []
          },
          "execution_count": 97
        }
      ]
    },
    {
      "cell_type": "markdown",
      "metadata": {
        "id": "9iB8oAPoe7Pc"
      },
      "source": [
        "**IDF 구하기**"
      ]
    },
    {
      "cell_type": "code",
      "metadata": {
        "colab": {
          "base_uri": "https://localhost:8080/",
          "height": 328
        },
        "id": "gLyXCJT7e8KY",
        "outputId": "a0c31811-ea9c-4f25-e0fe-26a1f8140f5d"
      },
      "source": [
        "result = []\r\n",
        "for j in range(len(vocabulary)):\r\n",
        "    t = vocabulary[j]\r\n",
        "    result.append(idf(t))\r\n",
        "\r\n",
        "inverse_df = pd.DataFrame(result, index=vocabulary, columns=[\"IDF\"])\r\n",
        "inverse_df"
      ],
      "execution_count": null,
      "outputs": [
        {
          "output_type": "execute_result",
          "data": {
            "text/html": [
              "<div>\n",
              "<style scoped>\n",
              "    .dataframe tbody tr th:only-of-type {\n",
              "        vertical-align: middle;\n",
              "    }\n",
              "\n",
              "    .dataframe tbody tr th {\n",
              "        vertical-align: top;\n",
              "    }\n",
              "\n",
              "    .dataframe thead th {\n",
              "        text-align: right;\n",
              "    }\n",
              "</style>\n",
              "<table border=\"1\" class=\"dataframe\">\n",
              "  <thead>\n",
              "    <tr style=\"text-align: right;\">\n",
              "      <th></th>\n",
              "      <th>IDF</th>\n",
              "    </tr>\n",
              "  </thead>\n",
              "  <tbody>\n",
              "    <tr>\n",
              "      <th>비가</th>\n",
              "      <td>0.693147</td>\n",
              "    </tr>\n",
              "    <tr>\n",
              "      <th>와서</th>\n",
              "      <td>0.693147</td>\n",
              "    </tr>\n",
              "    <tr>\n",
              "      <th>지나간다</th>\n",
              "      <td>0.693147</td>\n",
              "    </tr>\n",
              "    <tr>\n",
              "      <th>아프다</th>\n",
              "      <td>0.287682</td>\n",
              "    </tr>\n",
              "    <tr>\n",
              "      <th>다리가</th>\n",
              "      <td>0.693147</td>\n",
              "    </tr>\n",
              "    <tr>\n",
              "      <th>너무</th>\n",
              "      <td>0.287682</td>\n",
              "    </tr>\n",
              "    <tr>\n",
              "      <th>저기</th>\n",
              "      <td>0.693147</td>\n",
              "    </tr>\n",
              "    <tr>\n",
              "      <th>배가</th>\n",
              "      <td>0.000000</td>\n",
              "    </tr>\n",
              "    <tr>\n",
              "      <th>고프다</th>\n",
              "      <td>0.693147</td>\n",
              "    </tr>\n",
              "  </tbody>\n",
              "</table>\n",
              "</div>"
            ],
            "text/plain": [
              "           IDF\n",
              "비가    0.693147\n",
              "와서    0.693147\n",
              "지나간다  0.693147\n",
              "아프다   0.287682\n",
              "다리가   0.693147\n",
              "너무    0.287682\n",
              "저기    0.693147\n",
              "배가    0.000000\n",
              "고프다   0.693147"
            ]
          },
          "metadata": {
            "tags": []
          },
          "execution_count": 106
        }
      ]
    },
    {
      "cell_type": "markdown",
      "metadata": {
        "id": "EVA7Esedf2qs"
      },
      "source": [
        "<strong>TF*IDF 구하기"
      ]
    },
    {
      "cell_type": "code",
      "metadata": {
        "colab": {
          "base_uri": "https://localhost:8080/",
          "height": 210
        },
        "id": "MZQmtR8Vf0Kb",
        "outputId": "c422ed91-2204-40d0-df2f-14ca4f165b69"
      },
      "source": [
        "result = []\r\n",
        "for i in range (num_documents):\r\n",
        "    result.append([])\r\n",
        "    d = documents[i]\r\n",
        "    for j in range(len(vocabulary)):\r\n",
        "        t = vocabulary[j]\r\n",
        "        result[-1].append(tfidf(t,d))\r\n",
        "\r\n",
        "tf_idf = pd.DataFrame(result, columns=vocabulary)\r\n",
        "tf_idf"
      ],
      "execution_count": null,
      "outputs": [
        {
          "output_type": "execute_result",
          "data": {
            "text/html": [
              "<div>\n",
              "<style scoped>\n",
              "    .dataframe tbody tr th:only-of-type {\n",
              "        vertical-align: middle;\n",
              "    }\n",
              "\n",
              "    .dataframe tbody tr th {\n",
              "        vertical-align: top;\n",
              "    }\n",
              "\n",
              "    .dataframe thead th {\n",
              "        text-align: right;\n",
              "    }\n",
              "</style>\n",
              "<table border=\"1\" class=\"dataframe\">\n",
              "  <thead>\n",
              "    <tr style=\"text-align: right;\">\n",
              "      <th></th>\n",
              "      <th>비가</th>\n",
              "      <th>와서</th>\n",
              "      <th>지나간다</th>\n",
              "      <th>아프다</th>\n",
              "      <th>다리가</th>\n",
              "      <th>너무</th>\n",
              "      <th>저기</th>\n",
              "      <th>배가</th>\n",
              "      <th>고프다</th>\n",
              "    </tr>\n",
              "  </thead>\n",
              "  <tbody>\n",
              "    <tr>\n",
              "      <th>0</th>\n",
              "      <td>0.000000</td>\n",
              "      <td>0.000000</td>\n",
              "      <td>0.000000</td>\n",
              "      <td>0.287682</td>\n",
              "      <td>0.000000</td>\n",
              "      <td>0.575364</td>\n",
              "      <td>0.000000</td>\n",
              "      <td>0.0</td>\n",
              "      <td>0.000000</td>\n",
              "    </tr>\n",
              "    <tr>\n",
              "      <th>1</th>\n",
              "      <td>0.000000</td>\n",
              "      <td>0.000000</td>\n",
              "      <td>0.000000</td>\n",
              "      <td>0.000000</td>\n",
              "      <td>0.000000</td>\n",
              "      <td>0.287682</td>\n",
              "      <td>0.000000</td>\n",
              "      <td>0.0</td>\n",
              "      <td>0.693147</td>\n",
              "    </tr>\n",
              "    <tr>\n",
              "      <th>2</th>\n",
              "      <td>0.000000</td>\n",
              "      <td>0.000000</td>\n",
              "      <td>0.693147</td>\n",
              "      <td>0.000000</td>\n",
              "      <td>0.000000</td>\n",
              "      <td>0.000000</td>\n",
              "      <td>1.386294</td>\n",
              "      <td>0.0</td>\n",
              "      <td>0.000000</td>\n",
              "    </tr>\n",
              "    <tr>\n",
              "      <th>3</th>\n",
              "      <td>0.693147</td>\n",
              "      <td>0.693147</td>\n",
              "      <td>0.000000</td>\n",
              "      <td>0.287682</td>\n",
              "      <td>0.693147</td>\n",
              "      <td>0.000000</td>\n",
              "      <td>0.000000</td>\n",
              "      <td>0.0</td>\n",
              "      <td>0.000000</td>\n",
              "    </tr>\n",
              "  </tbody>\n",
              "</table>\n",
              "</div>"
            ],
            "text/plain": [
              "         비가        와서      지나간다       아프다  ...        너무        저기   배가       고프다\n",
              "0  0.000000  0.000000  0.000000  0.287682  ...  0.575364  0.000000  0.0  0.000000\n",
              "1  0.000000  0.000000  0.000000  0.000000  ...  0.287682  0.000000  0.0  0.693147\n",
              "2  0.000000  0.000000  0.693147  0.000000  ...  0.000000  1.386294  0.0  0.000000\n",
              "3  0.693147  0.693147  0.000000  0.287682  ...  0.000000  0.000000  0.0  0.000000\n",
              "\n",
              "[4 rows x 9 columns]"
            ]
          },
          "metadata": {
            "tags": []
          },
          "execution_count": 107
        }
      ]
    }
  ]
}