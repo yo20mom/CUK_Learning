{
  "nbformat": 4,
  "nbformat_minor": 0,
  "metadata": {
    "colab": {
      "name": "딥러닝 자연어 데이터 전처리 텐서플로우 베이직2강.ipynb",
      "private_outputs": true,
      "provenance": [],
      "collapsed_sections": [],
      "authorship_tag": "ABX9TyNYyYF1QTXyr89cmQwW/Un4",
      "include_colab_link": true
    },
    "kernelspec": {
      "name": "python3",
      "display_name": "Python 3"
    }
  },
  "cells": [
    {
      "cell_type": "markdown",
      "metadata": {
        "id": "view-in-github",
        "colab_type": "text"
      },
      "source": [
        "<a href=\"https://colab.research.google.com/github/yo20mom/DeepLearningNLP/blob/master/%EB%94%A5%EB%9F%AC%EB%8B%9D_%EC%9E%90%EC%97%B0%EC%96%B4_%EB%8D%B0%EC%9D%B4%ED%84%B0_%EC%A0%84%EC%B2%98%EB%A6%AC_%ED%85%90%EC%84%9C%ED%94%8C%EB%A1%9C%EC%9A%B0_%EB%B2%A0%EC%9D%B4%EC%A7%812%EA%B0%95.ipynb\" target=\"_parent\"><img src=\"https://colab.research.google.com/assets/colab-badge.svg\" alt=\"Open In Colab\"/></a>"
      ]
    },
    {
      "cell_type": "code",
      "metadata": {
        "id": "_u1OYmkVAKcm"
      },
      "source": [
        "from tensorflow.keras.layers import Input\n",
        "from tensorflow.keras.layers import Dense\n",
        "from tensorflow.keras.models import Model\n",
        "#from tensorflow.keras.datasets import ds\n",
        "import tensorflow as tf\n",
        "\n"
      ],
      "execution_count": null,
      "outputs": []
    },
    {
      "cell_type": "code",
      "metadata": {
        "id": "s2MqT4N1AljZ"
      },
      "source": [
        "x = tf.Variable(3., dtype=tf.float32)"
      ],
      "execution_count": null,
      "outputs": []
    },
    {
      "cell_type": "code",
      "metadata": {
        "id": "xJVHgI9DB3SW"
      },
      "source": [
        "with tf.GradientTape() as tape:\n",
        "    y = 2. * x+ 3.\n",
        "    z = tf.math.log(y)\n",
        "\n",
        "grad = tape.gradient(z,x)\n",
        "print(f\"미분 값 : {grad : .3f}\")"
      ],
      "execution_count": null,
      "outputs": []
    },
    {
      "cell_type": "code",
      "metadata": {
        "id": "x1Uybds9OnLj"
      },
      "source": [
        "titanic_file = tf.keras.utils.get_file(\"train.csv\",\"https://storage.googleapis.com/tf-datasets/titanic/train.csv\")"
      ],
      "execution_count": null,
      "outputs": []
    },
    {
      "cell_type": "code",
      "metadata": {
        "id": "XSjEk1EeOaAs"
      },
      "source": [
        "df = pd.read_csv(titanic_file, index_col=None)\n",
        "df.head()"
      ],
      "execution_count": null,
      "outputs": []
    },
    {
      "cell_type": "code",
      "metadata": {
        "id": "_ItZujzaHf5e"
      },
      "source": [
        "dataset = tf.data.Dataset.from_tensor_slices(dict(df))\n",
        "dataset"
      ],
      "execution_count": null,
      "outputs": []
    },
    {
      "cell_type": "code",
      "metadata": {
        "id": "FWIicODuGvft"
      },
      "source": [
        "for line in dataset.batch(5).take(1):\n",
        "    for k, v in line.items():\n",
        "        print(k,':',v)"
      ],
      "execution_count": null,
      "outputs": []
    }
  ]
}